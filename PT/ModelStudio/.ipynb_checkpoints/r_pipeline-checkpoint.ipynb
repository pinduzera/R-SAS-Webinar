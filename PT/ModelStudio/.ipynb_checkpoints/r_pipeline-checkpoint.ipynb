{
 "cells": [
  {
   "cell_type": "code",
   "execution_count": 1,
   "metadata": {},
   "outputs": [
    {
     "name": "stderr",
     "output_type": "stream",
     "text": [
      "Warning message:\n",
      "\"package 'randomForest' was built under R version 4.0.2\"\n",
      "randomForest 4.6-14\n",
      "\n",
      "Type rfNews() to see new features/changes/bug fixes.\n",
      "\n"
     ]
    }
   ],
   "source": [
    "library('randomForest')"
   ]
  },
  {
   "cell_type": "code",
   "execution_count": 2,
   "metadata": {},
   "outputs": [],
   "source": [
    "data <- read.csv('./data/hmeq.csv', na.strings = '', stringsAsFactors = TRUE)"
   ]
  },
  {
   "cell_type": "code",
   "execution_count": 3,
   "metadata": {},
   "outputs": [
    {
     "data": {
      "text/html": [
       "<table>\n",
       "<caption>A data.frame: 6 × 13</caption>\n",
       "<thead>\n",
       "\t<tr><th></th><th scope=col>BAD</th><th scope=col>LOAN</th><th scope=col>MORTDUE</th><th scope=col>VALUE</th><th scope=col>REASON</th><th scope=col>JOB</th><th scope=col>YOJ</th><th scope=col>DEROG</th><th scope=col>DELINQ</th><th scope=col>CLAGE</th><th scope=col>NINQ</th><th scope=col>CLNO</th><th scope=col>DEBTINC</th></tr>\n",
       "\t<tr><th></th><th scope=col>&lt;int&gt;</th><th scope=col>&lt;int&gt;</th><th scope=col>&lt;dbl&gt;</th><th scope=col>&lt;dbl&gt;</th><th scope=col>&lt;fct&gt;</th><th scope=col>&lt;fct&gt;</th><th scope=col>&lt;dbl&gt;</th><th scope=col>&lt;int&gt;</th><th scope=col>&lt;int&gt;</th><th scope=col>&lt;dbl&gt;</th><th scope=col>&lt;int&gt;</th><th scope=col>&lt;int&gt;</th><th scope=col>&lt;dbl&gt;</th></tr>\n",
       "</thead>\n",
       "<tbody>\n",
       "\t<tr><th scope=row>1</th><td>1</td><td>1100</td><td>25860</td><td> 39025</td><td>HomeImp</td><td>Other </td><td>10.5</td><td> 0</td><td> 0</td><td> 94.36667</td><td> 1</td><td> 9</td><td>      NA</td></tr>\n",
       "\t<tr><th scope=row>2</th><td>1</td><td>1300</td><td>70053</td><td> 68400</td><td>HomeImp</td><td>Other </td><td> 7.0</td><td> 0</td><td> 2</td><td>121.83333</td><td> 0</td><td>14</td><td>      NA</td></tr>\n",
       "\t<tr><th scope=row>3</th><td>1</td><td>1500</td><td>13500</td><td> 16700</td><td>HomeImp</td><td>Other </td><td> 4.0</td><td> 0</td><td> 0</td><td>149.46667</td><td> 1</td><td>10</td><td>      NA</td></tr>\n",
       "\t<tr><th scope=row>4</th><td>1</td><td>1500</td><td>   NA</td><td>    NA</td><td>NA     </td><td>NA    </td><td>  NA</td><td>NA</td><td>NA</td><td>       NA</td><td>NA</td><td>NA</td><td>      NA</td></tr>\n",
       "\t<tr><th scope=row>5</th><td>0</td><td>1700</td><td>97800</td><td>112000</td><td>HomeImp</td><td>Office</td><td> 3.0</td><td> 0</td><td> 0</td><td> 93.33333</td><td> 0</td><td>14</td><td>      NA</td></tr>\n",
       "\t<tr><th scope=row>6</th><td>1</td><td>1700</td><td>30548</td><td> 40320</td><td>HomeImp</td><td>Other </td><td> 9.0</td><td> 0</td><td> 0</td><td>101.46600</td><td> 1</td><td> 8</td><td>37.11361</td></tr>\n",
       "</tbody>\n",
       "</table>\n"
      ],
      "text/latex": [
       "A data.frame: 6 × 13\n",
       "\\begin{tabular}{r|lllllllllllll}\n",
       "  & BAD & LOAN & MORTDUE & VALUE & REASON & JOB & YOJ & DEROG & DELINQ & CLAGE & NINQ & CLNO & DEBTINC\\\\\n",
       "  & <int> & <int> & <dbl> & <dbl> & <fct> & <fct> & <dbl> & <int> & <int> & <dbl> & <int> & <int> & <dbl>\\\\\n",
       "\\hline\n",
       "\t1 & 1 & 1100 & 25860 &  39025 & HomeImp & Other  & 10.5 &  0 &  0 &  94.36667 &  1 &  9 &       NA\\\\\n",
       "\t2 & 1 & 1300 & 70053 &  68400 & HomeImp & Other  &  7.0 &  0 &  2 & 121.83333 &  0 & 14 &       NA\\\\\n",
       "\t3 & 1 & 1500 & 13500 &  16700 & HomeImp & Other  &  4.0 &  0 &  0 & 149.46667 &  1 & 10 &       NA\\\\\n",
       "\t4 & 1 & 1500 &    NA &     NA & NA      & NA     &   NA & NA & NA &        NA & NA & NA &       NA\\\\\n",
       "\t5 & 0 & 1700 & 97800 & 112000 & HomeImp & Office &  3.0 &  0 &  0 &  93.33333 &  0 & 14 &       NA\\\\\n",
       "\t6 & 1 & 1700 & 30548 &  40320 & HomeImp & Other  &  9.0 &  0 &  0 & 101.46600 &  1 &  8 & 37.11361\\\\\n",
       "\\end{tabular}\n"
      ],
      "text/markdown": [
       "\n",
       "A data.frame: 6 × 13\n",
       "\n",
       "| <!--/--> | BAD &lt;int&gt; | LOAN &lt;int&gt; | MORTDUE &lt;dbl&gt; | VALUE &lt;dbl&gt; | REASON &lt;fct&gt; | JOB &lt;fct&gt; | YOJ &lt;dbl&gt; | DEROG &lt;int&gt; | DELINQ &lt;int&gt; | CLAGE &lt;dbl&gt; | NINQ &lt;int&gt; | CLNO &lt;int&gt; | DEBTINC &lt;dbl&gt; |\n",
       "|---|---|---|---|---|---|---|---|---|---|---|---|---|---|\n",
       "| 1 | 1 | 1100 | 25860 |  39025 | HomeImp | Other  | 10.5 |  0 |  0 |  94.36667 |  1 |  9 |       NA |\n",
       "| 2 | 1 | 1300 | 70053 |  68400 | HomeImp | Other  |  7.0 |  0 |  2 | 121.83333 |  0 | 14 |       NA |\n",
       "| 3 | 1 | 1500 | 13500 |  16700 | HomeImp | Other  |  4.0 |  0 |  0 | 149.46667 |  1 | 10 |       NA |\n",
       "| 4 | 1 | 1500 |    NA |     NA | NA      | NA     |   NA | NA | NA |        NA | NA | NA |       NA |\n",
       "| 5 | 0 | 1700 | 97800 | 112000 | HomeImp | Office |  3.0 |  0 |  0 |  93.33333 |  0 | 14 |       NA |\n",
       "| 6 | 1 | 1700 | 30548 |  40320 | HomeImp | Other  |  9.0 |  0 |  0 | 101.46600 |  1 |  8 | 37.11361 |\n",
       "\n"
      ],
      "text/plain": [
       "  BAD LOAN MORTDUE VALUE  REASON  JOB    YOJ  DEROG DELINQ CLAGE     NINQ CLNO\n",
       "1 1   1100 25860    39025 HomeImp Other  10.5  0     0      94.36667  1    9  \n",
       "2 1   1300 70053    68400 HomeImp Other   7.0  0     2     121.83333  0   14  \n",
       "3 1   1500 13500    16700 HomeImp Other   4.0  0     0     149.46667  1   10  \n",
       "4 1   1500    NA       NA NA      NA       NA NA    NA            NA NA   NA  \n",
       "5 0   1700 97800   112000 HomeImp Office  3.0  0     0      93.33333  0   14  \n",
       "6 1   1700 30548    40320 HomeImp Other   9.0  0     0     101.46600  1    8  \n",
       "  DEBTINC \n",
       "1       NA\n",
       "2       NA\n",
       "3       NA\n",
       "4       NA\n",
       "5       NA\n",
       "6 37.11361"
      ]
     },
     "metadata": {},
     "output_type": "display_data"
    }
   ],
   "source": [
    "head(data)"
   ]
  },
  {
   "cell_type": "code",
   "execution_count": 4,
   "metadata": {},
   "outputs": [
    {
     "name": "stderr",
     "output_type": "stream",
     "text": [
      "Warning message:\n",
      "\"package 'missForest' was built under R version 4.0.2\"\n",
      "Loading required package: foreach\n",
      "\n",
      "Warning message:\n",
      "\"package 'foreach' was built under R version 4.0.2\"\n",
      "Loading required package: itertools\n",
      "\n",
      "Warning message:\n",
      "\"package 'itertools' was built under R version 4.0.2\"\n",
      "Loading required package: iterators\n",
      "\n",
      "Warning message:\n",
      "\"package 'iterators' was built under R version 4.0.2\"\n"
     ]
    }
   ],
   "source": [
    "library('missForest')"
   ]
  },
  {
   "cell_type": "code",
   "execution_count": 5,
   "metadata": {},
   "outputs": [
    {
     "name": "stdout",
     "output_type": "stream",
     "text": [
      "  missForest iteration 1 in progress...done!\n",
      "  missForest iteration 2 in progress...done!\n"
     ]
    }
   ],
   "source": [
    "imp = missForest(data, maxiter = 2, ntree = 10) \n"
   ]
  },
  {
   "cell_type": "code",
   "execution_count": 6,
   "metadata": {},
   "outputs": [
    {
     "data": {
      "text/html": [
       "<table>\n",
       "<caption>A data.frame: 6 × 13</caption>\n",
       "<thead>\n",
       "\t<tr><th></th><th scope=col>BAD</th><th scope=col>LOAN</th><th scope=col>MORTDUE</th><th scope=col>VALUE</th><th scope=col>REASON</th><th scope=col>JOB</th><th scope=col>YOJ</th><th scope=col>DEROG</th><th scope=col>DELINQ</th><th scope=col>CLAGE</th><th scope=col>NINQ</th><th scope=col>CLNO</th><th scope=col>DEBTINC</th></tr>\n",
       "\t<tr><th></th><th scope=col>&lt;int&gt;</th><th scope=col>&lt;int&gt;</th><th scope=col>&lt;dbl&gt;</th><th scope=col>&lt;dbl&gt;</th><th scope=col>&lt;fct&gt;</th><th scope=col>&lt;fct&gt;</th><th scope=col>&lt;dbl&gt;</th><th scope=col>&lt;dbl&gt;</th><th scope=col>&lt;dbl&gt;</th><th scope=col>&lt;dbl&gt;</th><th scope=col>&lt;dbl&gt;</th><th scope=col>&lt;dbl&gt;</th><th scope=col>&lt;dbl&gt;</th></tr>\n",
       "</thead>\n",
       "<tbody>\n",
       "\t<tr><th scope=row>1</th><td>1</td><td>1100</td><td>25860.0</td><td> 39025.0</td><td>HomeImp</td><td>Other </td><td>10.50</td><td>0.0</td><td>0.0</td><td> 94.36667</td><td>1.0</td><td> 9.0</td><td>28.15488</td></tr>\n",
       "\t<tr><th scope=row>2</th><td>1</td><td>1300</td><td>70053.0</td><td> 68400.0</td><td>HomeImp</td><td>Other </td><td> 7.00</td><td>0.0</td><td>2.0</td><td>121.83333</td><td>0.0</td><td>14.0</td><td>41.34397</td></tr>\n",
       "\t<tr><th scope=row>3</th><td>1</td><td>1500</td><td>13500.0</td><td> 16700.0</td><td>HomeImp</td><td>Other </td><td> 4.00</td><td>0.0</td><td>0.0</td><td>149.46667</td><td>1.0</td><td>10.0</td><td>27.62787</td></tr>\n",
       "\t<tr><th scope=row>4</th><td>1</td><td>1500</td><td>39638.7</td><td> 49871.7</td><td>HomeImp</td><td>Mgr   </td><td>10.06</td><td>1.3</td><td>2.1</td><td>111.60764</td><td>0.6</td><td>20.4</td><td>44.47475</td></tr>\n",
       "\t<tr><th scope=row>5</th><td>0</td><td>1700</td><td>97800.0</td><td>112000.0</td><td>HomeImp</td><td>Office</td><td> 3.00</td><td>0.0</td><td>0.0</td><td> 93.33333</td><td>0.0</td><td>14.0</td><td>28.29513</td></tr>\n",
       "\t<tr><th scope=row>6</th><td>1</td><td>1700</td><td>30548.0</td><td> 40320.0</td><td>HomeImp</td><td>Other </td><td> 9.00</td><td>0.0</td><td>0.0</td><td>101.46600</td><td>1.0</td><td> 8.0</td><td>37.11361</td></tr>\n",
       "</tbody>\n",
       "</table>\n"
      ],
      "text/latex": [
       "A data.frame: 6 × 13\n",
       "\\begin{tabular}{r|lllllllllllll}\n",
       "  & BAD & LOAN & MORTDUE & VALUE & REASON & JOB & YOJ & DEROG & DELINQ & CLAGE & NINQ & CLNO & DEBTINC\\\\\n",
       "  & <int> & <int> & <dbl> & <dbl> & <fct> & <fct> & <dbl> & <dbl> & <dbl> & <dbl> & <dbl> & <dbl> & <dbl>\\\\\n",
       "\\hline\n",
       "\t1 & 1 & 1100 & 25860.0 &  39025.0 & HomeImp & Other  & 10.50 & 0.0 & 0.0 &  94.36667 & 1.0 &  9.0 & 28.15488\\\\\n",
       "\t2 & 1 & 1300 & 70053.0 &  68400.0 & HomeImp & Other  &  7.00 & 0.0 & 2.0 & 121.83333 & 0.0 & 14.0 & 41.34397\\\\\n",
       "\t3 & 1 & 1500 & 13500.0 &  16700.0 & HomeImp & Other  &  4.00 & 0.0 & 0.0 & 149.46667 & 1.0 & 10.0 & 27.62787\\\\\n",
       "\t4 & 1 & 1500 & 39638.7 &  49871.7 & HomeImp & Mgr    & 10.06 & 1.3 & 2.1 & 111.60764 & 0.6 & 20.4 & 44.47475\\\\\n",
       "\t5 & 0 & 1700 & 97800.0 & 112000.0 & HomeImp & Office &  3.00 & 0.0 & 0.0 &  93.33333 & 0.0 & 14.0 & 28.29513\\\\\n",
       "\t6 & 1 & 1700 & 30548.0 &  40320.0 & HomeImp & Other  &  9.00 & 0.0 & 0.0 & 101.46600 & 1.0 &  8.0 & 37.11361\\\\\n",
       "\\end{tabular}\n"
      ],
      "text/markdown": [
       "\n",
       "A data.frame: 6 × 13\n",
       "\n",
       "| <!--/--> | BAD &lt;int&gt; | LOAN &lt;int&gt; | MORTDUE &lt;dbl&gt; | VALUE &lt;dbl&gt; | REASON &lt;fct&gt; | JOB &lt;fct&gt; | YOJ &lt;dbl&gt; | DEROG &lt;dbl&gt; | DELINQ &lt;dbl&gt; | CLAGE &lt;dbl&gt; | NINQ &lt;dbl&gt; | CLNO &lt;dbl&gt; | DEBTINC &lt;dbl&gt; |\n",
       "|---|---|---|---|---|---|---|---|---|---|---|---|---|---|\n",
       "| 1 | 1 | 1100 | 25860.0 |  39025.0 | HomeImp | Other  | 10.50 | 0.0 | 0.0 |  94.36667 | 1.0 |  9.0 | 28.15488 |\n",
       "| 2 | 1 | 1300 | 70053.0 |  68400.0 | HomeImp | Other  |  7.00 | 0.0 | 2.0 | 121.83333 | 0.0 | 14.0 | 41.34397 |\n",
       "| 3 | 1 | 1500 | 13500.0 |  16700.0 | HomeImp | Other  |  4.00 | 0.0 | 0.0 | 149.46667 | 1.0 | 10.0 | 27.62787 |\n",
       "| 4 | 1 | 1500 | 39638.7 |  49871.7 | HomeImp | Mgr    | 10.06 | 1.3 | 2.1 | 111.60764 | 0.6 | 20.4 | 44.47475 |\n",
       "| 5 | 0 | 1700 | 97800.0 | 112000.0 | HomeImp | Office |  3.00 | 0.0 | 0.0 |  93.33333 | 0.0 | 14.0 | 28.29513 |\n",
       "| 6 | 1 | 1700 | 30548.0 |  40320.0 | HomeImp | Other  |  9.00 | 0.0 | 0.0 | 101.46600 | 1.0 |  8.0 | 37.11361 |\n",
       "\n"
      ],
      "text/plain": [
       "  BAD LOAN MORTDUE VALUE    REASON  JOB    YOJ   DEROG DELINQ CLAGE     NINQ\n",
       "1 1   1100 25860.0  39025.0 HomeImp Other  10.50 0.0   0.0     94.36667 1.0 \n",
       "2 1   1300 70053.0  68400.0 HomeImp Other   7.00 0.0   2.0    121.83333 0.0 \n",
       "3 1   1500 13500.0  16700.0 HomeImp Other   4.00 0.0   0.0    149.46667 1.0 \n",
       "4 1   1500 39638.7  49871.7 HomeImp Mgr    10.06 1.3   2.1    111.60764 0.6 \n",
       "5 0   1700 97800.0 112000.0 HomeImp Office  3.00 0.0   0.0     93.33333 0.0 \n",
       "6 1   1700 30548.0  40320.0 HomeImp Other   9.00 0.0   0.0    101.46600 1.0 \n",
       "  CLNO DEBTINC \n",
       "1  9.0 28.15488\n",
       "2 14.0 41.34397\n",
       "3 10.0 27.62787\n",
       "4 20.4 44.47475\n",
       "5 14.0 28.29513\n",
       "6  8.0 37.11361"
      ]
     },
     "metadata": {},
     "output_type": "display_data"
    }
   ],
   "source": [
    "data_imp <- imp$ximp\n",
    "head(data_imp)"
   ]
  },
  {
   "cell_type": "code",
   "execution_count": 7,
   "metadata": {},
   "outputs": [],
   "source": [
    "data_imp$BAD <- as.factor(data_imp$BAD)"
   ]
  },
  {
   "cell_type": "code",
   "execution_count": 8,
   "metadata": {},
   "outputs": [],
   "source": [
    "# RandomForest\n",
    "dm_model <- randomForest(BAD ~ ., ntree=100, mtry=5, \n",
    "                         data=data_imp, importance=TRUE)"
   ]
  },
  {
   "cell_type": "code",
   "execution_count": 9,
   "metadata": {},
   "outputs": [],
   "source": [
    "# Score\n",
    "pred <- predict(dm_model, data_imp, type=\"prob\")\n",
    "scored_df <- data.frame(pred)\n",
    "colnames(scored_df) <- c(\"P_BAD0\", \"P_BAD1\")"
   ]
  },
  {
   "cell_type": "code",
   "execution_count": 10,
   "metadata": {},
   "outputs": [
    {
     "data": {
      "text/html": [
       "<table>\n",
       "<caption>A data.frame: 6 × 2</caption>\n",
       "<thead>\n",
       "\t<tr><th></th><th scope=col>P_BAD0</th><th scope=col>P_BAD1</th></tr>\n",
       "\t<tr><th></th><th scope=col>&lt;dbl&gt;</th><th scope=col>&lt;dbl&gt;</th></tr>\n",
       "</thead>\n",
       "<tbody>\n",
       "\t<tr><th scope=row>1</th><td>0.03</td><td>0.97</td></tr>\n",
       "\t<tr><th scope=row>2</th><td>0.07</td><td>0.93</td></tr>\n",
       "\t<tr><th scope=row>3</th><td>0.04</td><td>0.96</td></tr>\n",
       "\t<tr><th scope=row>4</th><td>0.04</td><td>0.96</td></tr>\n",
       "\t<tr><th scope=row>5</th><td>0.99</td><td>0.01</td></tr>\n",
       "\t<tr><th scope=row>6</th><td>0.01</td><td>0.99</td></tr>\n",
       "</tbody>\n",
       "</table>\n"
      ],
      "text/latex": [
       "A data.frame: 6 × 2\n",
       "\\begin{tabular}{r|ll}\n",
       "  & P\\_BAD0 & P\\_BAD1\\\\\n",
       "  & <dbl> & <dbl>\\\\\n",
       "\\hline\n",
       "\t1 & 0.03 & 0.97\\\\\n",
       "\t2 & 0.07 & 0.93\\\\\n",
       "\t3 & 0.04 & 0.96\\\\\n",
       "\t4 & 0.04 & 0.96\\\\\n",
       "\t5 & 0.99 & 0.01\\\\\n",
       "\t6 & 0.01 & 0.99\\\\\n",
       "\\end{tabular}\n"
      ],
      "text/markdown": [
       "\n",
       "A data.frame: 6 × 2\n",
       "\n",
       "| <!--/--> | P_BAD0 &lt;dbl&gt; | P_BAD1 &lt;dbl&gt; |\n",
       "|---|---|---|\n",
       "| 1 | 0.03 | 0.97 |\n",
       "| 2 | 0.07 | 0.93 |\n",
       "| 3 | 0.04 | 0.96 |\n",
       "| 4 | 0.04 | 0.96 |\n",
       "| 5 | 0.99 | 0.01 |\n",
       "| 6 | 0.01 | 0.99 |\n",
       "\n"
      ],
      "text/plain": [
       "  P_BAD0 P_BAD1\n",
       "1 0.03   0.97  \n",
       "2 0.07   0.93  \n",
       "3 0.04   0.96  \n",
       "4 0.04   0.96  \n",
       "5 0.99   0.01  \n",
       "6 0.01   0.99  "
      ]
     },
     "metadata": {},
     "output_type": "display_data"
    }
   ],
   "source": [
    "head(scored_df)"
   ]
  },
  {
   "cell_type": "code",
   "execution_count": 11,
   "metadata": {},
   "outputs": [
    {
     "data": {
      "image/png": "[encoded data removed]",
      "text/plain": [
       "Plot with title \"randomForest MSE Plot\""
      ]
     },
     "metadata": {
      "image/png": {
       "height": 420,
       "width": 420
      }
     },
     "output_type": "display_data"
    }
   ],
   "source": [
    "# Print/plot model output\n",
    "#png(\"rpt_forestMsePlot.png\")\n",
    "\n",
    "plot(dm_model, main='randomForest MSE Plot')\n",
    "\n",
    "# dev.off"
   ]
  },
  {
   "cell_type": "code",
   "execution_count": null,
   "metadata": {},
   "outputs": [],
   "source": [
    "write.csv(importance(dm_model), \n",
    "          file=\"rpt_forestIMP.csv\", \n",
    "          row.names=TRUE)"
   ]
  }
 ],
 "metadata": {
  "kernelspec": {
   "display_name": "R",
   "language": "R",
   "name": "ir"
  },
  "language_info": {
   "codemirror_mode": "r",
   "file_extension": ".r",
   "mimetype": "text/x-r-source",
   "name": "R",
   "pygments_lexer": "r",
   "version": "4.0.0"
  }
 },
 "nbformat": 4,
 "nbformat_minor": 4
}
