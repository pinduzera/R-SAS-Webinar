{
 "cells": [
  {
   "cell_type": "markdown",
   "metadata": {},
   "source": [
    "## R SWAT Modelagem"
   ]
  },
  {
   "cell_type": "markdown",
   "metadata": {},
   "source": [
    "Github do SWAT: https://github.com/sassoftware/R-swat\n",
    "\n",
    "Action sets: https://go.documentation.sas.com/?docsetId=allprodsactions&docsetTarget=actionSetsByName.htm&docsetVersion=3.5&locale=en\n",
    "\n",
    "Documentação: https://developer.sas.com/apis/swat/r/v1.3.0/R-swat.pdf"
   ]
  },
  {
   "cell_type": "code",
   "execution_count": null,
   "metadata": {},
   "outputs": [],
   "source": [
    "#install.packages('https://github.com/sassoftware/R-swat/releases/download/v1.5.0/R-swat-1.5.0-linux64.tar.gz',\n",
    "#                   repos=NULL, type='file')\n",
    "#install.packages('https://github.com/sassoftware/R-swat/releases/download/v1.5.0/R-swat-1.5.0-win64.tar.gz',\n",
    "#                   repos=NULL, type='file')\n"
   ]
  },
  {
   "cell_type": "code",
   "execution_count": 1,
   "metadata": {},
   "outputs": [
    {
     "name": "stderr",
     "output_type": "stream",
     "text": [
      "SWAT 1.5.0\n",
      "\n",
      "Warning message:\n",
      "\"package 'ggplot2' was built under R version 4.0.2\"\n"
     ]
    }
   ],
   "source": [
    "# Load necessary packages\n",
    "library('swat')\n",
    "library('ggplot2')\n",
    "library('reshape2')\n",
    "#options(cas.print.messages = FALSE)"
   ]
  },
  {
   "cell_type": "code",
   "execution_count": 4,
   "metadata": {},
   "outputs": [
    {
     "name": "stderr",
     "output_type": "stream",
     "text": [
      "NOTE: Connecting to CAS and generating CAS action functions for loaded\n",
      "\n",
      "      action sets...\n",
      "\n",
      "NOTE: To generate the functions with signatures (for tab completion), set \n",
      "\n",
      "      options(cas.gen.function.sig=TRUE).\n",
      "\n"
     ]
    }
   ],
   "source": [
    "conn <- CAS('pdcesx14134.exnet.sas.com', \n",
    "            port=8777, protocol = \"http\",\n",
    "            caslib = 'casuser', \n",
    "            authinfo = './.authinfo')"
   ]
  },
  {
   "cell_type": "code",
   "execution_count": null,
   "metadata": {},
   "outputs": [],
   "source": [
    "cas.table.tableInfo(conn)"
   ]
  },
  {
   "cell_type": "code",
   "execution_count": null,
   "metadata": {},
   "outputs": [],
   "source": [
    "cas.table.caslibInfo(conn)"
   ]
  },
  {
   "cell_type": "code",
   "execution_count": null,
   "metadata": {},
   "outputs": [],
   "source": [
    "## Carregando Actionsets no CAS\n",
    "actionsets <- c('sampling', 'decisionTree', 'neuralNet', 'percentile')\n",
    "for(i in actionsets){\n",
    "    loadActionSet(conn, i)\n",
    "}"
   ]
  },
  {
   "cell_type": "code",
   "execution_count": null,
   "metadata": {},
   "outputs": [],
   "source": [
    "# Carregando dados para CAS\n",
    "castbl <- cas.read.csv(conn, './data/hmeq.csv')"
   ]
  },
  {
   "cell_type": "code",
   "execution_count": null,
   "metadata": {},
   "outputs": [],
   "source": [
    "class(castbl)"
   ]
  },
  {
   "cell_type": "code",
   "execution_count": null,
   "metadata": {},
   "outputs": [],
   "source": [
    "head(castbl)"
   ]
  },
  {
   "cell_type": "code",
   "execution_count": null,
   "metadata": {},
   "outputs": [],
   "source": [
    "cas.simple.summary(castbl)"
   ]
  },
  {
   "cell_type": "code",
   "execution_count": null,
   "metadata": {},
   "outputs": [],
   "source": [
    "# Trazer dados para maquina local\n",
    "df <- to.casDataFrame(castbl, obs = nrow(castbl))"
   ]
  },
  {
   "cell_type": "code",
   "execution_count": null,
   "metadata": {},
   "outputs": [],
   "source": [
    "head(df)"
   ]
  },
  {
   "cell_type": "code",
   "execution_count": null,
   "metadata": {},
   "outputs": [],
   "source": [
    "# Formatacao de dados\n",
    "d <- melt(df[sapply(df, is.numeric)], id.vars=NULL)\n",
    "head(d)"
   ]
  },
  {
   "cell_type": "code",
   "execution_count": null,
   "metadata": {},
   "outputs": [],
   "source": [
    "options(repr.plot.width=12, repr.plot.height=6)\n",
    "\n",
    "ggplot(d, aes(x = value)) +\n",
    "    geom_histogram(fill = 'blue', bins = 25) +\n",
    "    facet_wrap(~variable,\n",
    "               scales = 'free_x') "
   ]
  },
  {
   "cell_type": "code",
   "execution_count": null,
   "metadata": {},
   "outputs": [],
   "source": [
    "# Ver dados faltantes de todas variaveis\n",
    "tbl <- cas.simple.distinct(castbl)$Distinct\n",
    "tbl"
   ]
  },
  {
   "cell_type": "code",
   "execution_count": null,
   "metadata": {},
   "outputs": [],
   "source": [
    "# Pegando dados missing\n",
    "cas.nmiss(castbl)"
   ]
  },
  {
   "cell_type": "code",
   "execution_count": null,
   "metadata": {},
   "outputs": [],
   "source": [
    "# Visualizacao de missing\n",
    "tbl$PctMiss <- tbl$NMiss/nrow(castbl)"
   ]
  },
  {
   "cell_type": "code",
   "execution_count": null,
   "metadata": {},
   "outputs": [],
   "source": [
    "ggplot(tbl, aes(Column, PctMiss)) +\n",
    "    geom_col(fill = 'blue') +\n",
    "    ggtitle('Pct Missing Values') +\n",
    "    theme(plot.title = element_text(hjust = 0.5))"
   ]
  },
  {
   "cell_type": "code",
   "execution_count": null,
   "metadata": {},
   "outputs": [],
   "source": [
    "# Imputacao de dados missing\n",
    "cas.dataPreprocess.impute(castbl,\n",
    "    methodContinuous = 'MEDIAN',\n",
    "    methodNominal = 'MODE',\n",
    "    inputs = colnames(castbl)[-1],\n",
    "    copyAllVars = TRUE,\n",
    "    casOut = list(name = 'hmeq', \n",
    "                replace = TRUE)\n",
    ")"
   ]
  },
  {
   "cell_type": "code",
   "execution_count": null,
   "metadata": {},
   "outputs": [],
   "source": [
    "# Particionamento de dados\n",
    "cas.sampling.srs(conn,\n",
    "    table = 'hmeq',\n",
    "    samppct = 30,\n",
    "    partind = TRUE,\n",
    "    output = list(casOut = list(name = 'hmeq', replace = T), \n",
    "                  copyVars = 'ALL')\n",
    ")"
   ]
  },
  {
   "cell_type": "code",
   "execution_count": null,
   "metadata": {},
   "outputs": [],
   "source": [
    "hmeq1 <- defCasTable(conn, 'hmeq')"
   ]
  },
  {
   "cell_type": "code",
   "execution_count": null,
   "metadata": {},
   "outputs": [],
   "source": [
    "head(hmeq1)"
   ]
  },
  {
   "cell_type": "code",
   "execution_count": null,
   "metadata": {},
   "outputs": [],
   "source": [
    "indata <- 'hmeq'\n",
    "\n",
    "# Pega infromacao das variaveis\n",
    "colinfo <- head(cas.table.columnInfo(conn, table = indata)$ColumnInfo, -1)"
   ]
  },
  {
   "cell_type": "code",
   "execution_count": null,
   "metadata": {},
   "outputs": [],
   "source": [
    "# Variavel target\n",
    "target <- colinfo$Column[1]\n"
   ]
  },
  {
   "cell_type": "code",
   "execution_count": null,
   "metadata": {},
   "outputs": [],
   "source": [
    "# Separacao para modelos que lidam com missing\n",
    "inputs <- colinfo$Column[-1]\n",
    "nominals <- c(target, subset(colinfo, Type == 'varchar')$Column)"
   ]
  },
  {
   "cell_type": "code",
   "execution_count": null,
   "metadata": {},
   "outputs": [],
   "source": [
    "# Separacao para modelos que nao lidam com missing\n",
    "imp.inputs <- grep('IMP_', inputs, value = T)\n",
    "imp.nominals <- c(target, grep('IMP_', nominals, value = T))"
   ]
  },
  {
   "cell_type": "code",
   "execution_count": null,
   "metadata": {},
   "outputs": [],
   "source": [
    "# Treina modelos\n",
    "## Arvore de decisão\n",
    "cas.decisionTree.dtreeTrain(conn,\n",
    "    table = list(name = indata, where = '_PartInd_ = 0'),\n",
    "    target = target,\n",
    "    inputs = inputs,\n",
    "    nominals = nominals,\n",
    "    varImp = TRUE,\n",
    "    casOut = list(name = 'dt_model', replace = TRUE)\n",
    ")"
   ]
  },
  {
   "cell_type": "code",
   "execution_count": null,
   "metadata": {},
   "outputs": [],
   "source": [
    "## Random Forest\n",
    "cas.decisionTree.forestTrain(conn,\n",
    "    table = list(name = indata, where = '_PartInd_ = 0'),\n",
    "    target = target,\n",
    "    inputs = inputs,\n",
    "    nominals = nominals,\n",
    "    casOut = list(name = 'rf_model', replace = TRUE)\n",
    ")"
   ]
  },
  {
   "cell_type": "code",
   "execution_count": null,
   "metadata": {},
   "outputs": [],
   "source": [
    "## Gradient Boosting\n",
    "cas.decisionTree.gbtreeTrain(conn,\n",
    "    table = list(name = indata, where = '_PartInd_ = 0'),\n",
    "    target = target,\n",
    "    inputs = inputs,\n",
    "    nominals = nominals,\n",
    "    casOut = list(name = 'gbt_model', replace = TRUE)\n",
    ")"
   ]
  },
  {
   "cell_type": "code",
   "execution_count": null,
   "metadata": {},
   "outputs": [],
   "source": [
    "## Neural Network\n",
    "cas.neuralNet.annTrain(conn,\n",
    "    table = list(name = indata, where = '_PartInd_ = 0'),\n",
    "    target = target,\n",
    "    inputs = imp.inputs,\n",
    "    hidden = 7,\n",
    "    nominals = imp.nominals,\n",
    "    casOut = list(name = 'nn_model', replace = TRUE)\n",
    ")"
   ]
  },
  {
   "cell_type": "code",
   "execution_count": null,
   "metadata": {},
   "outputs": [],
   "source": [
    "### Prevendo um unico modelo\n",
    "cas.decisionTree.dtreeScore(\n",
    "    object       = hmeq1,\n",
    "    modelTable   = list(name = 'dt_model'),\n",
    "    copyVars     = list(target, '_PartInd_'),\n",
    "    assessonerow = TRUE,\n",
    "    casOut       = list(name = 'dt_scored', replace = T)\n",
    ")"
   ]
  },
  {
   "cell_type": "code",
   "execution_count": null,
   "metadata": {},
   "outputs": [],
   "source": [
    "dt_scores <- defCasTable(conn, 'dt_scored')"
   ]
  },
  {
   "cell_type": "code",
   "execution_count": null,
   "metadata": {},
   "outputs": [],
   "source": [
    "head(dt_scores)"
   ]
  },
  {
   "cell_type": "code",
   "execution_count": null,
   "metadata": {},
   "outputs": [],
   "source": [
    "models <- c('dt','rf','gbt','nn')\n",
    "scores <- c(cas.decisionTree.dtreeScore, cas.decisionTree.forestScore, \n",
    "            cas.decisionTree.gbtreeScore, cas.neuralNet.annScore)\n",
    "names(scores) <- models"
   ]
  },
  {
   "cell_type": "code",
   "execution_count": null,
   "metadata": {},
   "outputs": [],
   "source": [
    "# Funcao para atumatizar processo de predicao em novos dados\n",
    "score.params <- function(model){return(list(\n",
    "    object       = defCasTable(conn, indata),\n",
    "    modelTable   = list(name = paste0(model, '_model')),\n",
    "    copyVars     = list(target, '_PartInd_'),\n",
    "    assessonerow = TRUE,\n",
    "    casOut       = list(name = paste0(model, '_scored'), replace = T)\n",
    "))}"
   ]
  },
  {
   "cell_type": "code",
   "execution_count": null,
   "metadata": {},
   "outputs": [],
   "source": [
    "lapply(models, \n",
    "       function(x) {do.call(scores[[x]], \n",
    "                            score.params(x))}\n",
    "      )"
   ]
  },
  {
   "cell_type": "code",
   "execution_count": null,
   "metadata": {},
   "outputs": [],
   "source": [
    "# Carrega actionset para a\n",
    "# loadActionSet(conn, 'percentile')"
   ]
  },
  {
   "cell_type": "code",
   "execution_count": null,
   "metadata": {},
   "outputs": [],
   "source": [
    "## assesment de um único modelo\n",
    "asses <-  cas.percentile.assess(conn,\n",
    "        table    = list(name = paste0('dt_scored'), \n",
    "                        where = '_PartInd_ = 1'),\n",
    "        inputs   = paste0('_dt_P_           1'),\n",
    "        response = target,\n",
    "        event    = '1')"
   ]
  },
  {
   "cell_type": "code",
   "execution_count": null,
   "metadata": {},
   "outputs": [],
   "source": [
    "head(asses$LIFTInfo)"
   ]
  },
  {
   "cell_type": "code",
   "execution_count": null,
   "metadata": {},
   "outputs": [],
   "source": [
    "head(asses$ROCInfo)"
   ]
  },
  {
   "cell_type": "code",
   "execution_count": null,
   "metadata": {},
   "outputs": [],
   "source": [
    "# Funcao para comparacao de modelos\n",
    "assess.model <- function(model){\n",
    "    cas.percentile.assess(conn,\n",
    "        table    = list(name = paste0(model,'_scored'), \n",
    "                        where = '_PartInd_ = 1'),\n",
    "        inputs   = paste0('_', model, '_P_           1'),\n",
    "        response = target,\n",
    "        event    = '1')\n",
    "}"
   ]
  },
  {
   "cell_type": "code",
   "execution_count": null,
   "metadata": {},
   "outputs": [],
   "source": [
    "model.names <- c('Decision Tree', 'Random Forest', \n",
    "                 'Gradient Boosting', 'Neural Network')\n",
    "roc.df <- data.frame()\n",
    "\n",
    "for (i in 1:length(models)){\n",
    "    tmp <- (assess.model(models[i]))$ROCInfo\n",
    "    tmp$Model <- model.names[i] \n",
    "    roc.df <- rbind(roc.df, tmp)\n",
    "}"
   ]
  },
  {
   "cell_type": "code",
   "execution_count": null,
   "metadata": {},
   "outputs": [],
   "source": [
    "# Manipulacao do DF\n",
    "compare <- subset(roc.df, round(roc.df$CutOff, 2) == 0.5)\n",
    "rownames(compare) <- NULL\n",
    "compare[,c('Model','TP','FP','FN','TN')]"
   ]
  },
  {
   "cell_type": "code",
   "execution_count": null,
   "metadata": {},
   "outputs": [],
   "source": [
    "# Cria dataframe pra comparar missclassification\n",
    "compare$Misclassification <- 1 - compare$ACC\n",
    "miss <- compare[order(compare$Misclassification), c('Model','Misclassification')]\n",
    "rownames(miss) <- NULL\n",
    "miss"
   ]
  },
  {
   "cell_type": "code",
   "execution_count": null,
   "metadata": {},
   "outputs": [],
   "source": [
    "# Add nova coluna pra ser usada com label da curva Roc\n",
    "roc.df$Models <- paste(roc.df$Model, round(roc.df$C, 3), sep = ' - ')"
   ]
  },
  {
   "cell_type": "code",
   "execution_count": null,
   "metadata": {},
   "outputs": [],
   "source": [
    "# Cria curva ROC\n",
    "options(repr.plot.width=14, repr.plot.height=6)\n",
    "\n",
    "plot <- ggplot(data = roc.df[c('FPR', 'Sensitivity', 'Models')],\n",
    "    aes(x = FPR, y = Sensitivity, colour = Models)) +\n",
    "    geom_line(size =1.2) +\n",
    "    labs(x = 'False Positive Rate', y = 'True Positive Rate')\n",
    "plot"
   ]
  },
  {
   "cell_type": "code",
   "execution_count": null,
   "metadata": {},
   "outputs": [],
   "source": [
    "plotly::embed_notebook(plotly::ggplotly(plot))"
   ]
  },
  {
   "cell_type": "code",
   "execution_count": null,
   "metadata": {},
   "outputs": [],
   "source": [
    "# Fim sessao\n",
    "cas.session.endSession(conn)"
   ]
  }
 ],
 "metadata": {
  "kernelspec": {
   "display_name": "R",
   "language": "R",
   "name": "ir"
  },
  "language_info": {
   "codemirror_mode": "r",
   "file_extension": ".r",
   "mimetype": "text/x-r-source",
   "name": "R",
   "pygments_lexer": "r",
   "version": "4.0.0"
  }
 },
 "nbformat": 4,
 "nbformat_minor": 4
}
