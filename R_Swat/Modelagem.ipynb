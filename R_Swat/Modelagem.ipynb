{
 "cells": [
  {
   "cell_type": "markdown",
   "metadata": {},
   "source": [
    "## R SWAT Modelagem"
   ]
  },
  {
   "cell_type": "markdown",
   "metadata": {},
   "source": [
    "Github do SWAT: https://github.com/sassoftware/R-swat\n",
    "\n",
    "Action sets: https://go.documentation.sas.com/?docsetId=allprodsactions&docsetTarget=actionSetsByName.htm&docsetVersion=3.5&locale=en\n",
    "\n",
    "Documentação: https://developer.sas.com/apis/swat/r/v1.3.0/R-swat.pdf"
   ]
  },
  {
   "cell_type": "code",
   "execution_count": null,
   "metadata": {},
   "outputs": [],
   "source": [
    "#install.packages('https://github.com/sassoftware/R-swat/releases/download/v1.5.0/R-swat-1.5.0-linux64.tar.gz',\n",
    "#                   repos=NULL, type='file')\n",
    "#install.packages('https://github.com/sassoftware/R-swat/releases/download/v1.5.0/R-swat-1.5.0-win64.tar.gz',\n",
    "#                   repos=NULL, type='file')\n"
   ]
  },
  {
   "cell_type": "code",
   "execution_count": 1,
   "metadata": {},
   "outputs": [
    {
     "name": "stderr",
     "output_type": "stream",
     "text": [
      "SWAT 1.5.0\n",
      "\n",
      "Warning message:\n",
      "\"package 'ggplot2' was built under R version 4.0.2\"\n"
     ]
    }
   ],
   "source": [
    "# Load necessary packages\n",
    "library('swat')\n",
    "library('ggplot2')\n",
    "library('reshape2')\n",
    "#options(cas.print.messages = FALSE)"
   ]
  },
  {
   "cell_type": "code",
   "execution_count": 2,
   "metadata": {},
   "outputs": [
    {
     "name": "stderr",
     "output_type": "stream",
     "text": [
      "NOTE: Connecting to CAS and generating CAS action functions for loaded\n",
      "\n",
      "      action sets...\n",
      "\n",
      "NOTE: To generate the functions with signatures (for tab completion), set \n",
      "\n",
      "      options(cas.gen.function.sig=TRUE).\n",
      "\n"
     ]
    }
   ],
   "source": [
    "conn <- CAS('pdcesx14134.exnet.sas.com', \n",
    "            port=8777, protocol = \"http\",\n",
    "            caslib = 'casuser', \n",
    "            username = 'username', password = 'password')"
   ]
  },
  {
   "cell_type": "code",
   "execution_count": 4,
   "metadata": {},
   "outputs": [
    {
     "data": {
      "text/html": [
       "<strong>$TableInfo</strong> = <table>\n",
       "<caption>A casDataFrame: 2 × 23</caption>\n",
       "<thead>\n",
       "\t<tr><th></th><th scope=col>Name</th><th scope=col>Rows</th><th scope=col>Columns</th><th scope=col>IndexedColumns</th><th scope=col>Encoding</th><th scope=col>CreateTimeFormatted</th><th scope=col>ModTimeFormatted</th><th scope=col>AccessTimeFormatted</th><th scope=col>JavaCharSet</th><th scope=col>CreateTime</th><th scope=col>...</th><th scope=col>Repeated</th><th scope=col>View</th><th scope=col>MultiPart</th><th scope=col>SourceName</th><th scope=col>SourceCaslib</th><th scope=col>Compressed</th><th scope=col>Creator</th><th scope=col>Modifier</th><th scope=col>SourceModTimeFormatted</th><th scope=col>SourceModTime</th></tr>\n",
       "\t<tr><th></th><th scope=col>&lt;chr&gt;</th><th scope=col>&lt;dbl&gt;</th><th scope=col>&lt;dbl&gt;</th><th scope=col>&lt;dbl&gt;</th><th scope=col>&lt;chr&gt;</th><th scope=col>&lt;chr&gt;</th><th scope=col>&lt;chr&gt;</th><th scope=col>&lt;chr&gt;</th><th scope=col>&lt;chr&gt;</th><th scope=col>&lt;dbl&gt;</th><th scope=col>...</th><th scope=col>&lt;int&gt;</th><th scope=col>&lt;int&gt;</th><th scope=col>&lt;int&gt;</th><th scope=col>&lt;chr&gt;</th><th scope=col>&lt;chr&gt;</th><th scope=col>&lt;int&gt;</th><th scope=col>&lt;chr&gt;</th><th scope=col>&lt;chr&gt;</th><th scope=col>&lt;chr&gt;</th><th scope=col>&lt;dbl&gt;</th></tr>\n",
       "</thead>\n",
       "<tbody>\n",
       "\t<tr><th scope=row>1</th><td>HMEQ        </td><td>5960</td><td>13</td><td>0</td><td>utf-8</td><td>2020-07-03T09:13:01-04:00</td><td>2020-07-03T09:13:01-04:00</td><td>2020-07-03T09:16:01-04:00</td><td>UTF8</td><td>1909401181</td><td>...</td><td>0</td><td>0</td><td>0</td><td>HMEQ.sashdat    </td><td>Public</td><td>0</td><td>sasdemo</td><td></td><td>2019-11-19T12:22:14-04:00</td><td>1889799734</td></tr>\n",
       "\t<tr><th scope=row>2</th><td>HMEQ_DUMMIES</td><td>5960</td><td>21</td><td>0</td><td>utf-8</td><td>2020-07-03T09:57:53-04:00</td><td>2020-07-03T09:57:53-04:00</td><td>2020-07-03T09:57:53-04:00</td><td>UTF8</td><td>1909403873</td><td>...</td><td>0</td><td>0</td><td>0</td><td>HMEQ_DUMMIES.csv</td><td>Public</td><td>0</td><td>sasdemo</td><td></td><td>2020-07-01T23:19:05-04:00</td><td>1909279145</td></tr>\n",
       "</tbody>\n",
       "</table>\n"
      ],
      "text/latex": [
       "\\textbf{\\$TableInfo} = A casDataFrame: 2 × 23\n",
       "\\begin{tabular}{r|lllllllllllllllllllll}\n",
       "  & Name & Rows & Columns & IndexedColumns & Encoding & CreateTimeFormatted & ModTimeFormatted & AccessTimeFormatted & JavaCharSet & CreateTime & ... & Repeated & View & MultiPart & SourceName & SourceCaslib & Compressed & Creator & Modifier & SourceModTimeFormatted & SourceModTime\\\\\n",
       "  & <chr> & <dbl> & <dbl> & <dbl> & <chr> & <chr> & <chr> & <chr> & <chr> & <dbl> & ... & <int> & <int> & <int> & <chr> & <chr> & <int> & <chr> & <chr> & <chr> & <dbl>\\\\\n",
       "\\hline\n",
       "\t1 & HMEQ         & 5960 & 13 & 0 & utf-8 & 2020-07-03T09:13:01-04:00 & 2020-07-03T09:13:01-04:00 & 2020-07-03T09:16:01-04:00 & UTF8 & 1909401181 & ... & 0 & 0 & 0 & HMEQ.sashdat     & Public & 0 & sasdemo &  & 2019-11-19T12:22:14-04:00 & 1889799734\\\\\n",
       "\t2 & HMEQ\\_DUMMIES & 5960 & 21 & 0 & utf-8 & 2020-07-03T09:57:53-04:00 & 2020-07-03T09:57:53-04:00 & 2020-07-03T09:57:53-04:00 & UTF8 & 1909403873 & ... & 0 & 0 & 0 & HMEQ\\_DUMMIES.csv & Public & 0 & sasdemo &  & 2020-07-01T23:19:05-04:00 & 1909279145\\\\\n",
       "\\end{tabular}\n"
      ],
      "text/markdown": [
       "**$TableInfo** = \n",
       "A casDataFrame: 2 × 23\n",
       "\n",
       "| <!--/--> | Name &lt;chr&gt; | Rows &lt;dbl&gt; | Columns &lt;dbl&gt; | IndexedColumns &lt;dbl&gt; | Encoding &lt;chr&gt; | CreateTimeFormatted &lt;chr&gt; | ModTimeFormatted &lt;chr&gt; | AccessTimeFormatted &lt;chr&gt; | JavaCharSet &lt;chr&gt; | CreateTime &lt;dbl&gt; | ... ... | Repeated &lt;int&gt; | View &lt;int&gt; | MultiPart &lt;int&gt; | SourceName &lt;chr&gt; | SourceCaslib &lt;chr&gt; | Compressed &lt;int&gt; | Creator &lt;chr&gt; | Modifier &lt;chr&gt; | SourceModTimeFormatted &lt;chr&gt; | SourceModTime &lt;dbl&gt; |\n",
       "|---|---|---|---|---|---|---|---|---|---|---|---|---|---|---|---|---|---|---|---|---|---|\n",
       "| 1 | HMEQ         | 5960 | 13 | 0 | utf-8 | 2020-07-03T09:13:01-04:00 | 2020-07-03T09:13:01-04:00 | 2020-07-03T09:16:01-04:00 | UTF8 | 1909401181 | ... | 0 | 0 | 0 | HMEQ.sashdat     | Public | 0 | sasdemo | <!----> | 2019-11-19T12:22:14-04:00 | 1889799734 |\n",
       "| 2 | HMEQ_DUMMIES | 5960 | 21 | 0 | utf-8 | 2020-07-03T09:57:53-04:00 | 2020-07-03T09:57:53-04:00 | 2020-07-03T09:57:53-04:00 | UTF8 | 1909403873 | ... | 0 | 0 | 0 | HMEQ_DUMMIES.csv | Public | 0 | sasdemo | <!----> | 2020-07-01T23:19:05-04:00 | 1909279145 |\n",
       "\n"
      ],
      "text/plain": [
       "$TableInfo\n",
       "          Name Rows Columns IndexedColumns Encoding       CreateTimeFormatted\n",
       "1         HMEQ 5960      13              0    utf-8 2020-07-03T09:13:01-04:00\n",
       "2 HMEQ_DUMMIES 5960      21              0    utf-8 2020-07-03T09:57:53-04:00\n",
       "           ModTimeFormatted       AccessTimeFormatted JavaCharSet CreateTime\n",
       "1 2020-07-03T09:13:01-04:00 2020-07-03T09:16:01-04:00        UTF8 1909401181\n",
       "2 2020-07-03T09:57:53-04:00 2020-07-03T09:57:53-04:00        UTF8 1909403873\n",
       "     ModTime AccessTime Global Repeated View MultiPart       SourceName\n",
       "1 1909401181 1909401361      1        0    0         0     HMEQ.sashdat\n",
       "2 1909403873 1909403873      1        0    0         0 HMEQ_DUMMIES.csv\n",
       "  SourceCaslib Compressed Creator Modifier    SourceModTimeFormatted\n",
       "1       Public          0 sasdemo          2019-11-19T12:22:14-04:00\n",
       "2       Public          0 sasdemo          2020-07-01T23:19:05-04:00\n",
       "  SourceModTime\n",
       "1    1889799734\n",
       "2    1909279145\n"
      ]
     },
     "metadata": {},
     "output_type": "display_data"
    }
   ],
   "source": [
    "cas.table.tableInfo(conn, caslib = 'public')"
   ]
  },
  {
   "cell_type": "code",
   "execution_count": 5,
   "metadata": {},
   "outputs": [
    {
     "data": {
      "text/html": [
       "<strong>$CASLibInfo</strong> = <table>\n",
       "<caption>A casDataFrame: 8 × 11</caption>\n",
       "<thead>\n",
       "\t<tr><th></th><th scope=col>Name</th><th scope=col>Type</th><th scope=col>Description</th><th scope=col>Path</th><th scope=col>Definition</th><th scope=col>Subdirs</th><th scope=col>Local</th><th scope=col>Active</th><th scope=col>Personal</th><th scope=col>Hidden</th><th scope=col>Transient</th></tr>\n",
       "\t<tr><th></th><th scope=col>&lt;chr&gt;</th><th scope=col>&lt;chr&gt;</th><th scope=col>&lt;chr&gt;</th><th scope=col>&lt;chr&gt;</th><th scope=col>&lt;chr&gt;</th><th scope=col>&lt;dbl&gt;</th><th scope=col>&lt;dbl&gt;</th><th scope=col>&lt;dbl&gt;</th><th scope=col>&lt;dbl&gt;</th><th scope=col>&lt;dbl&gt;</th><th scope=col>&lt;dbl&gt;</th></tr>\n",
       "</thead>\n",
       "<tbody>\n",
       "\t<tr><th scope=row>1</th><td>CASUSER(sasdemo)    </td><td>PATH</td><td>Personal File System Caslib                                                        </td><td>/home/sasdemo/casuser/                                    </td><td></td><td>1</td><td>0</td><td>1</td><td>1</td><td>0</td><td>1</td></tr>\n",
       "\t<tr><th scope=row>2</th><td>Formats             </td><td>PATH</td><td>Stores user defined formats.                                                       </td><td>/opt/sas/viya/config/data/cas/default/formats/            </td><td></td><td>0</td><td>0</td><td>0</td><td>0</td><td>0</td><td>0</td></tr>\n",
       "\t<tr><th scope=row>3</th><td>ModelPerformanceData</td><td>PATH</td><td>Library for Model Management performance objects.                                  </td><td>/opt/sas/viya/config/data/cas/default/modelMonitorLibrary/</td><td></td><td>0</td><td>0</td><td>0</td><td>0</td><td>0</td><td>0</td></tr>\n",
       "\t<tr><th scope=row>4</th><td>Models              </td><td>PATH</td><td>Stores models created by Visual Analytics for use in other analytics or SAS Studio.</td><td>/opt/sas/viya/config/data/cas/default/models/             </td><td></td><td>0</td><td>0</td><td>0</td><td>0</td><td>0</td><td>0</td></tr>\n",
       "\t<tr><th scope=row>5</th><td>Public              </td><td>PATH</td><td>Shared and writeable caslib, accessible to all users.                              </td><td>/opt/sas/viya/config/data/cas/default/public/             </td><td></td><td>0</td><td>0</td><td>0</td><td>0</td><td>0</td><td>0</td></tr>\n",
       "\t<tr><th scope=row>6</th><td>QASMartStore        </td><td>PATH</td><td>Stores quality analytic suite mart tables.                                         </td><td>/opt/sas/viya/config/data/cas/default/qasMartStore/       </td><td></td><td>0</td><td>0</td><td>0</td><td>0</td><td>0</td><td>0</td></tr>\n",
       "\t<tr><th scope=row>7</th><td>Samples             </td><td>PATH</td><td>Stores sample data, supplied by SAS.                                               </td><td>/opt/sas/viya/config/data/cas/default/samples/            </td><td></td><td>0</td><td>0</td><td>0</td><td>0</td><td>0</td><td>0</td></tr>\n",
       "\t<tr><th scope=row>8</th><td>SystemData          </td><td>PATH</td><td>Stores application generated data, used for general reporting.                     </td><td>/opt/sas/viya/config/data/cas/default/sysData/            </td><td></td><td>0</td><td>0</td><td>0</td><td>0</td><td>0</td><td>0</td></tr>\n",
       "</tbody>\n",
       "</table>\n"
      ],
      "text/latex": [
       "\\textbf{\\$CASLibInfo} = A casDataFrame: 8 × 11\n",
       "\\begin{tabular}{r|lllllllllll}\n",
       "  & Name & Type & Description & Path & Definition & Subdirs & Local & Active & Personal & Hidden & Transient\\\\\n",
       "  & <chr> & <chr> & <chr> & <chr> & <chr> & <dbl> & <dbl> & <dbl> & <dbl> & <dbl> & <dbl>\\\\\n",
       "\\hline\n",
       "\t1 & CASUSER(sasdemo)     & PATH & Personal File System Caslib                                                         & /home/sasdemo/casuser/                                     &  & 1 & 0 & 1 & 1 & 0 & 1\\\\\n",
       "\t2 & Formats              & PATH & Stores user defined formats.                                                        & /opt/sas/viya/config/data/cas/default/formats/             &  & 0 & 0 & 0 & 0 & 0 & 0\\\\\n",
       "\t3 & ModelPerformanceData & PATH & Library for Model Management performance objects.                                   & /opt/sas/viya/config/data/cas/default/modelMonitorLibrary/ &  & 0 & 0 & 0 & 0 & 0 & 0\\\\\n",
       "\t4 & Models               & PATH & Stores models created by Visual Analytics for use in other analytics or SAS Studio. & /opt/sas/viya/config/data/cas/default/models/              &  & 0 & 0 & 0 & 0 & 0 & 0\\\\\n",
       "\t5 & Public               & PATH & Shared and writeable caslib, accessible to all users.                               & /opt/sas/viya/config/data/cas/default/public/              &  & 0 & 0 & 0 & 0 & 0 & 0\\\\\n",
       "\t6 & QASMartStore         & PATH & Stores quality analytic suite mart tables.                                          & /opt/sas/viya/config/data/cas/default/qasMartStore/        &  & 0 & 0 & 0 & 0 & 0 & 0\\\\\n",
       "\t7 & Samples              & PATH & Stores sample data, supplied by SAS.                                                & /opt/sas/viya/config/data/cas/default/samples/             &  & 0 & 0 & 0 & 0 & 0 & 0\\\\\n",
       "\t8 & SystemData           & PATH & Stores application generated data, used for general reporting.                      & /opt/sas/viya/config/data/cas/default/sysData/             &  & 0 & 0 & 0 & 0 & 0 & 0\\\\\n",
       "\\end{tabular}\n"
      ],
      "text/markdown": [
       "**$CASLibInfo** = \n",
       "A casDataFrame: 8 × 11\n",
       "\n",
       "| <!--/--> | Name &lt;chr&gt; | Type &lt;chr&gt; | Description &lt;chr&gt; | Path &lt;chr&gt; | Definition &lt;chr&gt; | Subdirs &lt;dbl&gt; | Local &lt;dbl&gt; | Active &lt;dbl&gt; | Personal &lt;dbl&gt; | Hidden &lt;dbl&gt; | Transient &lt;dbl&gt; |\n",
       "|---|---|---|---|---|---|---|---|---|---|---|---|\n",
       "| 1 | CASUSER(sasdemo)     | PATH | Personal File System Caslib                                                         | /home/sasdemo/casuser/                                     | <!----> | 1 | 0 | 1 | 1 | 0 | 1 |\n",
       "| 2 | Formats              | PATH | Stores user defined formats.                                                        | /opt/sas/viya/config/data/cas/default/formats/             | <!----> | 0 | 0 | 0 | 0 | 0 | 0 |\n",
       "| 3 | ModelPerformanceData | PATH | Library for Model Management performance objects.                                   | /opt/sas/viya/config/data/cas/default/modelMonitorLibrary/ | <!----> | 0 | 0 | 0 | 0 | 0 | 0 |\n",
       "| 4 | Models               | PATH | Stores models created by Visual Analytics for use in other analytics or SAS Studio. | /opt/sas/viya/config/data/cas/default/models/              | <!----> | 0 | 0 | 0 | 0 | 0 | 0 |\n",
       "| 5 | Public               | PATH | Shared and writeable caslib, accessible to all users.                               | /opt/sas/viya/config/data/cas/default/public/              | <!----> | 0 | 0 | 0 | 0 | 0 | 0 |\n",
       "| 6 | QASMartStore         | PATH | Stores quality analytic suite mart tables.                                          | /opt/sas/viya/config/data/cas/default/qasMartStore/        | <!----> | 0 | 0 | 0 | 0 | 0 | 0 |\n",
       "| 7 | Samples              | PATH | Stores sample data, supplied by SAS.                                                | /opt/sas/viya/config/data/cas/default/samples/             | <!----> | 0 | 0 | 0 | 0 | 0 | 0 |\n",
       "| 8 | SystemData           | PATH | Stores application generated data, used for general reporting.                      | /opt/sas/viya/config/data/cas/default/sysData/             | <!----> | 0 | 0 | 0 | 0 | 0 | 0 |\n",
       "\n"
      ],
      "text/plain": [
       "$CASLibInfo\n",
       "                  Name Type\n",
       "1     CASUSER(sasdemo) PATH\n",
       "2              Formats PATH\n",
       "3 ModelPerformanceData PATH\n",
       "4               Models PATH\n",
       "5               Public PATH\n",
       "6         QASMartStore PATH\n",
       "7              Samples PATH\n",
       "8           SystemData PATH\n",
       "                                                                          Description\n",
       "1                                                         Personal File System Caslib\n",
       "2                                                        Stores user defined formats.\n",
       "3                                   Library for Model Management performance objects.\n",
       "4 Stores models created by Visual Analytics for use in other analytics or SAS Studio.\n",
       "5                               Shared and writeable caslib, accessible to all users.\n",
       "6                                          Stores quality analytic suite mart tables.\n",
       "7                                                Stores sample data, supplied by SAS.\n",
       "8                      Stores application generated data, used for general reporting.\n",
       "                                                        Path Definition Subdirs\n",
       "1                                     /home/sasdemo/casuser/                  1\n",
       "2             /opt/sas/viya/config/data/cas/default/formats/                  0\n",
       "3 /opt/sas/viya/config/data/cas/default/modelMonitorLibrary/                  0\n",
       "4              /opt/sas/viya/config/data/cas/default/models/                  0\n",
       "5              /opt/sas/viya/config/data/cas/default/public/                  0\n",
       "6        /opt/sas/viya/config/data/cas/default/qasMartStore/                  0\n",
       "7             /opt/sas/viya/config/data/cas/default/samples/                  0\n",
       "8             /opt/sas/viya/config/data/cas/default/sysData/                  0\n",
       "  Local Active Personal Hidden Transient\n",
       "1     0      1        1      0         1\n",
       "2     0      0        0      0         0\n",
       "3     0      0        0      0         0\n",
       "4     0      0        0      0         0\n",
       "5     0      0        0      0         0\n",
       "6     0      0        0      0         0\n",
       "7     0      0        0      0         0\n",
       "8     0      0        0      0         0\n"
      ]
     },
     "metadata": {},
     "output_type": "display_data"
    }
   ],
   "source": [
    "cas.table.caslibInfo(conn)"
   ]
  },
  {
   "cell_type": "code",
   "execution_count": 6,
   "metadata": {},
   "outputs": [
    {
     "name": "stderr",
     "output_type": "stream",
     "text": [
      "NOTE: Added action set 'sampling'.\n",
      "\n",
      "NOTE: Information for action set 'sampling':\n",
      "\n",
      "NOTE:    sampling\n",
      "\n",
      "NOTE:       srs -  Samples a proportion of data from the input table or partitions the data into no more than three portions\n",
      "\n",
      "NOTE:       stratified - Samples a proportion of data or partitions the data into no more than three portions within each stratum\n",
      "\n",
      "NOTE:       oversample - Samples a user-specified proportion of data from the event level and adjusts the ratio between rare events and non-rare events to a user-specified ratio\n",
      "\n",
      "NOTE:       kfold - K-fold partitioning.\n",
      "\n",
      "NOTE: Added action set 'decisionTree'.\n",
      "\n",
      "NOTE: Information for action set 'decisionTree':\n",
      "\n",
      "NOTE:    decisionTree\n",
      "\n",
      "NOTE:       dtreeTrain - Trains a decision tree\n",
      "\n",
      "NOTE:       dtreeScore - Scores a table using a decision tree model\n",
      "\n",
      "NOTE:       dtreeSplit - Splits decision tree nodes\n",
      "\n",
      "NOTE:       dtreePrune - Prune a decision tree\n",
      "\n",
      "NOTE:       dtreeMerge - Merges decision tree nodes\n",
      "\n",
      "NOTE:       dtreeCode - Generates DATA step scoring code from a decision tree model\n",
      "\n",
      "NOTE:       forestTrain - Trains a forest. This action requires a SAS Visual Data Mining and Machine Learning license\n",
      "\n",
      "NOTE:       forestScore - Scores a table using a forest model\n",
      "\n",
      "NOTE:       forestCode - Generates DATA step scoring code from a forest model\n",
      "\n",
      "NOTE:       gbtreeTrain - Trains a gradient boosting tree. This action requires a SAS Visual Data Mining and Machine Learning license\n",
      "\n",
      "NOTE:       gbtreeScore - Scores a table using a gradient boosting tree model\n",
      "\n",
      "NOTE:       gbtreeCode - Generates DATA step scoring code from a gradient boosting tree model\n",
      "\n",
      "NOTE:       dtreeExportModel - Export the aStore model for a tree model table\n",
      "\n",
      "NOTE: Added action set 'neuralNet'.\n",
      "\n",
      "NOTE: Information for action set 'neuralNet':\n",
      "\n",
      "NOTE:    neuralNet\n",
      "\n",
      "NOTE:       annTrain - Trains an artificial neural network\n",
      "\n",
      "NOTE:       annScore - Scores a table using an artificial neural network model\n",
      "\n",
      "NOTE:       annCode - Generates DATA step scoring code from an artificial neural network model\n",
      "\n",
      "NOTE: Added action set 'percentile'.\n",
      "\n",
      "NOTE: Information for action set 'percentile':\n",
      "\n",
      "NOTE:    percentile\n",
      "\n",
      "NOTE:       percentile - Calculate quantiles and percentiles\n",
      "\n",
      "NOTE:       boxPlot - Calculate quantiles, high and low whiskers, and outliers\n",
      "\n",
      "NOTE:       assess - Assess and compare models\n",
      "\n"
     ]
    }
   ],
   "source": [
    "## Carregando Actionsets no CAS\n",
    "actionsets <- c('sampling', 'decisionTree', 'neuralNet', 'percentile')\n",
    "for(i in actionsets){\n",
    "    loadActionSet(conn, i)\n",
    "}"
   ]
  },
  {
   "cell_type": "code",
   "execution_count": 7,
   "metadata": {},
   "outputs": [
    {
     "name": "stderr",
     "output_type": "stream",
     "text": [
      "NOTE: Cloud Analytic Services made the uploaded file available as table HMEQ in caslib CASUSER(sasdemo).\n",
      "\n"
     ]
    }
   ],
   "source": [
    "# Carregando dados para CAS\n",
    "castbl <- cas.read.csv(conn, './data/hmeq.csv')"
   ]
  },
  {
   "cell_type": "code",
   "execution_count": 8,
   "metadata": {},
   "outputs": [
    {
     "data": {
      "text/html": [
       "<strong>$TableInfo</strong> = <table>\n",
       "<caption>A casDataFrame: 1 × 23</caption>\n",
       "<thead>\n",
       "\t<tr><th></th><th scope=col>Name</th><th scope=col>Rows</th><th scope=col>Columns</th><th scope=col>IndexedColumns</th><th scope=col>Encoding</th><th scope=col>CreateTimeFormatted</th><th scope=col>ModTimeFormatted</th><th scope=col>AccessTimeFormatted</th><th scope=col>JavaCharSet</th><th scope=col>CreateTime</th><th scope=col>...</th><th scope=col>Repeated</th><th scope=col>View</th><th scope=col>MultiPart</th><th scope=col>SourceName</th><th scope=col>SourceCaslib</th><th scope=col>Compressed</th><th scope=col>Creator</th><th scope=col>Modifier</th><th scope=col>SourceModTimeFormatted</th><th scope=col>SourceModTime</th></tr>\n",
       "\t<tr><th></th><th scope=col>&lt;chr&gt;</th><th scope=col>&lt;dbl&gt;</th><th scope=col>&lt;dbl&gt;</th><th scope=col>&lt;dbl&gt;</th><th scope=col>&lt;chr&gt;</th><th scope=col>&lt;chr&gt;</th><th scope=col>&lt;chr&gt;</th><th scope=col>&lt;chr&gt;</th><th scope=col>&lt;chr&gt;</th><th scope=col>&lt;dbl&gt;</th><th scope=col>...</th><th scope=col>&lt;int&gt;</th><th scope=col>&lt;int&gt;</th><th scope=col>&lt;int&gt;</th><th scope=col>&lt;chr&gt;</th><th scope=col>&lt;chr&gt;</th><th scope=col>&lt;int&gt;</th><th scope=col>&lt;chr&gt;</th><th scope=col>&lt;chr&gt;</th><th scope=col>&lt;chr&gt;</th><th scope=col>&lt;dbl&gt;</th></tr>\n",
       "</thead>\n",
       "<tbody>\n",
       "\t<tr><th scope=row>1</th><td>HMEQ</td><td>5960</td><td>13</td><td>0</td><td>utf-8</td><td>2020-07-03T10:18:19-04:00</td><td>2020-07-03T10:18:19-04:00</td><td>2020-07-03T10:18:19-04:00</td><td>UTF8</td><td>1909405099</td><td>...</td><td>0</td><td>0</td><td>0</td><td></td><td></td><td>0</td><td>sasdemo</td><td></td><td>2020-07-03T10:18:19-04:00</td><td>1909405099</td></tr>\n",
       "</tbody>\n",
       "</table>\n"
      ],
      "text/latex": [
       "\\textbf{\\$TableInfo} = A casDataFrame: 1 × 23\n",
       "\\begin{tabular}{r|lllllllllllllllllllll}\n",
       "  & Name & Rows & Columns & IndexedColumns & Encoding & CreateTimeFormatted & ModTimeFormatted & AccessTimeFormatted & JavaCharSet & CreateTime & ... & Repeated & View & MultiPart & SourceName & SourceCaslib & Compressed & Creator & Modifier & SourceModTimeFormatted & SourceModTime\\\\\n",
       "  & <chr> & <dbl> & <dbl> & <dbl> & <chr> & <chr> & <chr> & <chr> & <chr> & <dbl> & ... & <int> & <int> & <int> & <chr> & <chr> & <int> & <chr> & <chr> & <chr> & <dbl>\\\\\n",
       "\\hline\n",
       "\t1 & HMEQ & 5960 & 13 & 0 & utf-8 & 2020-07-03T10:18:19-04:00 & 2020-07-03T10:18:19-04:00 & 2020-07-03T10:18:19-04:00 & UTF8 & 1909405099 & ... & 0 & 0 & 0 &  &  & 0 & sasdemo &  & 2020-07-03T10:18:19-04:00 & 1909405099\\\\\n",
       "\\end{tabular}\n"
      ],
      "text/markdown": [
       "**$TableInfo** = \n",
       "A casDataFrame: 1 × 23\n",
       "\n",
       "| <!--/--> | Name &lt;chr&gt; | Rows &lt;dbl&gt; | Columns &lt;dbl&gt; | IndexedColumns &lt;dbl&gt; | Encoding &lt;chr&gt; | CreateTimeFormatted &lt;chr&gt; | ModTimeFormatted &lt;chr&gt; | AccessTimeFormatted &lt;chr&gt; | JavaCharSet &lt;chr&gt; | CreateTime &lt;dbl&gt; | ... ... | Repeated &lt;int&gt; | View &lt;int&gt; | MultiPart &lt;int&gt; | SourceName &lt;chr&gt; | SourceCaslib &lt;chr&gt; | Compressed &lt;int&gt; | Creator &lt;chr&gt; | Modifier &lt;chr&gt; | SourceModTimeFormatted &lt;chr&gt; | SourceModTime &lt;dbl&gt; |\n",
       "|---|---|---|---|---|---|---|---|---|---|---|---|---|---|---|---|---|---|---|---|---|---|\n",
       "| 1 | HMEQ | 5960 | 13 | 0 | utf-8 | 2020-07-03T10:18:19-04:00 | 2020-07-03T10:18:19-04:00 | 2020-07-03T10:18:19-04:00 | UTF8 | 1909405099 | ... | 0 | 0 | 0 | <!----> | <!----> | 0 | sasdemo | <!----> | 2020-07-03T10:18:19-04:00 | 1909405099 |\n",
       "\n"
      ],
      "text/plain": [
       "$TableInfo\n",
       "  Name Rows Columns IndexedColumns Encoding       CreateTimeFormatted\n",
       "1 HMEQ 5960      13              0    utf-8 2020-07-03T10:18:19-04:00\n",
       "           ModTimeFormatted       AccessTimeFormatted JavaCharSet CreateTime\n",
       "1 2020-07-03T10:18:19-04:00 2020-07-03T10:18:19-04:00        UTF8 1909405099\n",
       "     ModTime AccessTime Global Repeated View MultiPart SourceName SourceCaslib\n",
       "1 1909405099 1909405099      0        0    0         0                        \n",
       "  Compressed Creator Modifier    SourceModTimeFormatted SourceModTime\n",
       "1          0 sasdemo          2020-07-03T10:18:19-04:00    1909405099\n"
      ]
     },
     "metadata": {},
     "output_type": "display_data"
    }
   ],
   "source": [
    "cas.table.tableInfo(conn)"
   ]
  },
  {
   "cell_type": "code",
   "execution_count": 9,
   "metadata": {},
   "outputs": [
    {
     "data": {
      "text/html": [
       "'CASTable'"
      ],
      "text/latex": [
       "'CASTable'"
      ],
      "text/markdown": [
       "'CASTable'"
      ],
      "text/plain": [
       "[1] \"CASTable\"\n",
       "attr(,\"package\")\n",
       "[1] \"swat\""
      ]
     },
     "metadata": {},
     "output_type": "display_data"
    }
   ],
   "source": [
    "class(castbl)"
   ]
  },
  {
   "cell_type": "code",
   "execution_count": 10,
   "metadata": {},
   "outputs": [
    {
     "data": {
      "text/html": [
       "<table>\n",
       "<caption>A casDataFrame: 6 × 13</caption>\n",
       "<thead>\n",
       "\t<tr><th></th><th scope=col>BAD</th><th scope=col>LOAN</th><th scope=col>MORTDUE</th><th scope=col>VALUE</th><th scope=col>REASON</th><th scope=col>JOB</th><th scope=col>YOJ</th><th scope=col>DEROG</th><th scope=col>DELINQ</th><th scope=col>CLAGE</th><th scope=col>NINQ</th><th scope=col>CLNO</th><th scope=col>DEBTINC</th></tr>\n",
       "\t<tr><th></th><th scope=col>&lt;dbl&gt;</th><th scope=col>&lt;dbl&gt;</th><th scope=col>&lt;dbl&gt;</th><th scope=col>&lt;dbl&gt;</th><th scope=col>&lt;chr&gt;</th><th scope=col>&lt;chr&gt;</th><th scope=col>&lt;dbl&gt;</th><th scope=col>&lt;dbl&gt;</th><th scope=col>&lt;dbl&gt;</th><th scope=col>&lt;dbl&gt;</th><th scope=col>&lt;dbl&gt;</th><th scope=col>&lt;dbl&gt;</th><th scope=col>&lt;dbl&gt;</th></tr>\n",
       "</thead>\n",
       "<tbody>\n",
       "\t<tr><th scope=row>1</th><td>1</td><td>1100</td><td>25860</td><td> 39025</td><td>HomeImp</td><td>Other </td><td>10.5</td><td>  0</td><td>  0</td><td> 94.36667</td><td>  1</td><td>  9</td><td>     NaN</td></tr>\n",
       "\t<tr><th scope=row>2</th><td>1</td><td>1300</td><td>70053</td><td> 68400</td><td>HomeImp</td><td>Other </td><td> 7.0</td><td>  0</td><td>  2</td><td>121.83333</td><td>  0</td><td> 14</td><td>     NaN</td></tr>\n",
       "\t<tr><th scope=row>3</th><td>1</td><td>1500</td><td>13500</td><td> 16700</td><td>HomeImp</td><td>Other </td><td> 4.0</td><td>  0</td><td>  0</td><td>149.46667</td><td>  1</td><td> 10</td><td>     NaN</td></tr>\n",
       "\t<tr><th scope=row>4</th><td>1</td><td>1500</td><td>  NaN</td><td>   NaN</td><td>       </td><td>      </td><td> NaN</td><td>NaN</td><td>NaN</td><td>      NaN</td><td>NaN</td><td>NaN</td><td>     NaN</td></tr>\n",
       "\t<tr><th scope=row>5</th><td>0</td><td>1700</td><td>97800</td><td>112000</td><td>HomeImp</td><td>Office</td><td> 3.0</td><td>  0</td><td>  0</td><td> 93.33333</td><td>  0</td><td> 14</td><td>     NaN</td></tr>\n",
       "\t<tr><th scope=row>6</th><td>1</td><td>1700</td><td>30548</td><td> 40320</td><td>HomeImp</td><td>Other </td><td> 9.0</td><td>  0</td><td>  0</td><td>101.46600</td><td>  1</td><td>  8</td><td>37.11361</td></tr>\n",
       "</tbody>\n",
       "</table>\n"
      ],
      "text/latex": [
       "A casDataFrame: 6 × 13\n",
       "\\begin{tabular}{r|lllllllllllll}\n",
       "  & BAD & LOAN & MORTDUE & VALUE & REASON & JOB & YOJ & DEROG & DELINQ & CLAGE & NINQ & CLNO & DEBTINC\\\\\n",
       "  & <dbl> & <dbl> & <dbl> & <dbl> & <chr> & <chr> & <dbl> & <dbl> & <dbl> & <dbl> & <dbl> & <dbl> & <dbl>\\\\\n",
       "\\hline\n",
       "\t1 & 1 & 1100 & 25860 &  39025 & HomeImp & Other  & 10.5 &   0 &   0 &  94.36667 &   1 &   9 &      NaN\\\\\n",
       "\t2 & 1 & 1300 & 70053 &  68400 & HomeImp & Other  &  7.0 &   0 &   2 & 121.83333 &   0 &  14 &      NaN\\\\\n",
       "\t3 & 1 & 1500 & 13500 &  16700 & HomeImp & Other  &  4.0 &   0 &   0 & 149.46667 &   1 &  10 &      NaN\\\\\n",
       "\t4 & 1 & 1500 &   NaN &    NaN &         &        &  NaN & NaN & NaN &       NaN & NaN & NaN &      NaN\\\\\n",
       "\t5 & 0 & 1700 & 97800 & 112000 & HomeImp & Office &  3.0 &   0 &   0 &  93.33333 &   0 &  14 &      NaN\\\\\n",
       "\t6 & 1 & 1700 & 30548 &  40320 & HomeImp & Other  &  9.0 &   0 &   0 & 101.46600 &   1 &   8 & 37.11361\\\\\n",
       "\\end{tabular}\n"
      ],
      "text/markdown": [
       "\n",
       "A casDataFrame: 6 × 13\n",
       "\n",
       "| <!--/--> | BAD &lt;dbl&gt; | LOAN &lt;dbl&gt; | MORTDUE &lt;dbl&gt; | VALUE &lt;dbl&gt; | REASON &lt;chr&gt; | JOB &lt;chr&gt; | YOJ &lt;dbl&gt; | DEROG &lt;dbl&gt; | DELINQ &lt;dbl&gt; | CLAGE &lt;dbl&gt; | NINQ &lt;dbl&gt; | CLNO &lt;dbl&gt; | DEBTINC &lt;dbl&gt; |\n",
       "|---|---|---|---|---|---|---|---|---|---|---|---|---|---|\n",
       "| 1 | 1 | 1100 | 25860 |  39025 | HomeImp | Other  | 10.5 |   0 |   0 |  94.36667 |   1 |   9 |      NaN |\n",
       "| 2 | 1 | 1300 | 70053 |  68400 | HomeImp | Other  |  7.0 |   0 |   2 | 121.83333 |   0 |  14 |      NaN |\n",
       "| 3 | 1 | 1500 | 13500 |  16700 | HomeImp | Other  |  4.0 |   0 |   0 | 149.46667 |   1 |  10 |      NaN |\n",
       "| 4 | 1 | 1500 |   NaN |    NaN | <!----> | <!----> |  NaN | NaN | NaN |       NaN | NaN | NaN |      NaN |\n",
       "| 5 | 0 | 1700 | 97800 | 112000 | HomeImp | Office |  3.0 |   0 |   0 |  93.33333 |   0 |  14 |      NaN |\n",
       "| 6 | 1 | 1700 | 30548 |  40320 | HomeImp | Other  |  9.0 |   0 |   0 | 101.46600 |   1 |   8 | 37.11361 |\n",
       "\n"
      ],
      "text/plain": [
       "  BAD LOAN MORTDUE VALUE  REASON  JOB    YOJ  DEROG DELINQ CLAGE     NINQ CLNO\n",
       "1 1   1100 25860    39025 HomeImp Other  10.5   0     0     94.36667   1    9 \n",
       "2 1   1300 70053    68400 HomeImp Other   7.0   0     2    121.83333   0   14 \n",
       "3 1   1500 13500    16700 HomeImp Other   4.0   0     0    149.46667   1   10 \n",
       "4 1   1500   NaN      NaN                 NaN NaN   NaN          NaN NaN  NaN \n",
       "5 0   1700 97800   112000 HomeImp Office  3.0   0     0     93.33333   0   14 \n",
       "6 1   1700 30548    40320 HomeImp Other   9.0   0     0    101.46600   1    8 \n",
       "  DEBTINC \n",
       "1      NaN\n",
       "2      NaN\n",
       "3      NaN\n",
       "4      NaN\n",
       "5      NaN\n",
       "6 37.11361"
      ]
     },
     "metadata": {},
     "output_type": "display_data"
    }
   ],
   "source": [
    "head(castbl)"
   ]
  },
  {
   "cell_type": "code",
   "execution_count": 15,
   "metadata": {},
   "outputs": [
    {
     "ename": "ERROR",
     "evalue": "Error: `x` must be a vector, not a `casDataFrame` object.\n",
     "output_type": "error",
     "traceback": [
      "Error: `x` must be a vector, not a `casDataFrame` object.\nTraceback:\n",
      "1. summary(castbl)",
      "2. summary(castbl)",
      "3. .local(object, ...)",
      "4. freqres$results$Frequency %>% dplyr::select(Column, FmtVar, Frequency) %>% \n .     dplyr::group_by(Column) %>% dplyr::arrange(Column, desc(Frequency)) %>% \n .     dplyr::top_n(n = 5) %>% dplyr::filter(dplyr::row_number() <= \n .     6)",
      "5. withVisible(eval(quote(`_fseq`(`_lhs`)), env, env))",
      "6. eval(quote(`_fseq`(`_lhs`)), env, env)",
      "7. eval(quote(`_fseq`(`_lhs`)), env, env)",
      "8. `_fseq`(`_lhs`)",
      "9. freduce(value, `_function_list`)",
      "10. function_list[[i]](value)",
      "11. dplyr::select(., Column, FmtVar, Frequency)",
      "12. select.data.frame(., Column, FmtVar, Frequency)",
      "13. tidyselect::eval_select(expr(c(...)), .data)",
      "14. eval_select_impl(data, names(data), as_quosure(expr, env), include = include, \n  .     exclude = exclude, strict = strict, name_spec = name_spec, \n  .     allow_rename = allow_rename)",
      "15. vctrs::vec_assert(x)",
      "16. stop_scalar_type(x, arg)",
      "17. stop_vctrs(msg, \"vctrs_error_scalar_type\", actual = x)",
      "18. abort(message, class = c(class, \"vctrs_error\"), ...)",
      "19. signal_abort(cnd)"
     ]
    }
   ],
   "source": [
    "summary(castbl)"
   ]
  },
  {
   "cell_type": "code",
   "execution_count": 17,
   "metadata": {},
   "outputs": [],
   "source": [
    "table <- cas.simple.summary(castbl)"
   ]
  },
  {
   "cell_type": "code",
   "execution_count": 21,
   "metadata": {},
   "outputs": [
    {
     "data": {
      "text/html": [
       "<table>\n",
       "<caption>A data.frame: 3 × 2</caption>\n",
       "<thead>\n",
       "\t<tr><th></th><th scope=col>Min</th><th scope=col>Max</th></tr>\n",
       "\t<tr><th></th><th scope=col>&lt;dbl&gt;</th><th scope=col>&lt;dbl&gt;</th></tr>\n",
       "</thead>\n",
       "<tbody>\n",
       "\t<tr><th scope=row>1</th><td>   0</td><td>     1</td></tr>\n",
       "\t<tr><th scope=row>2</th><td>1100</td><td> 89900</td></tr>\n",
       "\t<tr><th scope=row>3</th><td>2063</td><td>399550</td></tr>\n",
       "</tbody>\n",
       "</table>\n"
      ],
      "text/latex": [
       "A data.frame: 3 × 2\n",
       "\\begin{tabular}{r|ll}\n",
       "  & Min & Max\\\\\n",
       "  & <dbl> & <dbl>\\\\\n",
       "\\hline\n",
       "\t1 &    0 &      1\\\\\n",
       "\t2 & 1100 &  89900\\\\\n",
       "\t3 & 2063 & 399550\\\\\n",
       "\\end{tabular}\n"
      ],
      "text/markdown": [
       "\n",
       "A data.frame: 3 × 2\n",
       "\n",
       "| <!--/--> | Min &lt;dbl&gt; | Max &lt;dbl&gt; |\n",
       "|---|---|---|\n",
       "| 1 |    0 |      1 |\n",
       "| 2 | 1100 |  89900 |\n",
       "| 3 | 2063 | 399550 |\n",
       "\n"
      ],
      "text/plain": [
       "  Min  Max   \n",
       "1    0      1\n",
       "2 1100  89900\n",
       "3 2063 399550"
      ]
     },
     "metadata": {},
     "output_type": "display_data"
    }
   ],
   "source": [
    "table$Summary[c(1:3),c('Min', 'Max')]"
   ]
  },
  {
   "cell_type": "code",
   "execution_count": 22,
   "metadata": {},
   "outputs": [],
   "source": [
    "# Trazer dados para maquina local\n",
    "df <- to.casDataFrame(castbl, obs = nrow(castbl))"
   ]
  },
  {
   "cell_type": "code",
   "execution_count": 23,
   "metadata": {},
   "outputs": [
    {
     "data": {
      "text/html": [
       "<table>\n",
       "<caption>A data.frame: 6 × 13</caption>\n",
       "<thead>\n",
       "\t<tr><th></th><th scope=col>BAD</th><th scope=col>LOAN</th><th scope=col>MORTDUE</th><th scope=col>VALUE</th><th scope=col>REASON</th><th scope=col>JOB</th><th scope=col>YOJ</th><th scope=col>DEROG</th><th scope=col>DELINQ</th><th scope=col>CLAGE</th><th scope=col>NINQ</th><th scope=col>CLNO</th><th scope=col>DEBTINC</th></tr>\n",
       "\t<tr><th></th><th scope=col>&lt;dbl&gt;</th><th scope=col>&lt;dbl&gt;</th><th scope=col>&lt;dbl&gt;</th><th scope=col>&lt;dbl&gt;</th><th scope=col>&lt;chr&gt;</th><th scope=col>&lt;chr&gt;</th><th scope=col>&lt;dbl&gt;</th><th scope=col>&lt;dbl&gt;</th><th scope=col>&lt;dbl&gt;</th><th scope=col>&lt;dbl&gt;</th><th scope=col>&lt;dbl&gt;</th><th scope=col>&lt;dbl&gt;</th><th scope=col>&lt;dbl&gt;</th></tr>\n",
       "</thead>\n",
       "<tbody>\n",
       "\t<tr><th scope=row>1</th><td>1</td><td>1100</td><td>25860</td><td> 39025</td><td>HomeImp</td><td>Other </td><td>10.5</td><td>  0</td><td>  0</td><td> 94.36667</td><td>  1</td><td>  9</td><td>     NaN</td></tr>\n",
       "\t<tr><th scope=row>2</th><td>1</td><td>1300</td><td>70053</td><td> 68400</td><td>HomeImp</td><td>Other </td><td> 7.0</td><td>  0</td><td>  2</td><td>121.83333</td><td>  0</td><td> 14</td><td>     NaN</td></tr>\n",
       "\t<tr><th scope=row>3</th><td>1</td><td>1500</td><td>13500</td><td> 16700</td><td>HomeImp</td><td>Other </td><td> 4.0</td><td>  0</td><td>  0</td><td>149.46667</td><td>  1</td><td> 10</td><td>     NaN</td></tr>\n",
       "\t<tr><th scope=row>4</th><td>1</td><td>1500</td><td>  NaN</td><td>   NaN</td><td>       </td><td>      </td><td> NaN</td><td>NaN</td><td>NaN</td><td>      NaN</td><td>NaN</td><td>NaN</td><td>     NaN</td></tr>\n",
       "\t<tr><th scope=row>5</th><td>0</td><td>1700</td><td>97800</td><td>112000</td><td>HomeImp</td><td>Office</td><td> 3.0</td><td>  0</td><td>  0</td><td> 93.33333</td><td>  0</td><td> 14</td><td>     NaN</td></tr>\n",
       "\t<tr><th scope=row>6</th><td>1</td><td>1700</td><td>30548</td><td> 40320</td><td>HomeImp</td><td>Other </td><td> 9.0</td><td>  0</td><td>  0</td><td>101.46600</td><td>  1</td><td>  8</td><td>37.11361</td></tr>\n",
       "</tbody>\n",
       "</table>\n"
      ],
      "text/latex": [
       "A data.frame: 6 × 13\n",
       "\\begin{tabular}{r|lllllllllllll}\n",
       "  & BAD & LOAN & MORTDUE & VALUE & REASON & JOB & YOJ & DEROG & DELINQ & CLAGE & NINQ & CLNO & DEBTINC\\\\\n",
       "  & <dbl> & <dbl> & <dbl> & <dbl> & <chr> & <chr> & <dbl> & <dbl> & <dbl> & <dbl> & <dbl> & <dbl> & <dbl>\\\\\n",
       "\\hline\n",
       "\t1 & 1 & 1100 & 25860 &  39025 & HomeImp & Other  & 10.5 &   0 &   0 &  94.36667 &   1 &   9 &      NaN\\\\\n",
       "\t2 & 1 & 1300 & 70053 &  68400 & HomeImp & Other  &  7.0 &   0 &   2 & 121.83333 &   0 &  14 &      NaN\\\\\n",
       "\t3 & 1 & 1500 & 13500 &  16700 & HomeImp & Other  &  4.0 &   0 &   0 & 149.46667 &   1 &  10 &      NaN\\\\\n",
       "\t4 & 1 & 1500 &   NaN &    NaN &         &        &  NaN & NaN & NaN &       NaN & NaN & NaN &      NaN\\\\\n",
       "\t5 & 0 & 1700 & 97800 & 112000 & HomeImp & Office &  3.0 &   0 &   0 &  93.33333 &   0 &  14 &      NaN\\\\\n",
       "\t6 & 1 & 1700 & 30548 &  40320 & HomeImp & Other  &  9.0 &   0 &   0 & 101.46600 &   1 &   8 & 37.11361\\\\\n",
       "\\end{tabular}\n"
      ],
      "text/markdown": [
       "\n",
       "A data.frame: 6 × 13\n",
       "\n",
       "| <!--/--> | BAD &lt;dbl&gt; | LOAN &lt;dbl&gt; | MORTDUE &lt;dbl&gt; | VALUE &lt;dbl&gt; | REASON &lt;chr&gt; | JOB &lt;chr&gt; | YOJ &lt;dbl&gt; | DEROG &lt;dbl&gt; | DELINQ &lt;dbl&gt; | CLAGE &lt;dbl&gt; | NINQ &lt;dbl&gt; | CLNO &lt;dbl&gt; | DEBTINC &lt;dbl&gt; |\n",
       "|---|---|---|---|---|---|---|---|---|---|---|---|---|---|\n",
       "| 1 | 1 | 1100 | 25860 |  39025 | HomeImp | Other  | 10.5 |   0 |   0 |  94.36667 |   1 |   9 |      NaN |\n",
       "| 2 | 1 | 1300 | 70053 |  68400 | HomeImp | Other  |  7.0 |   0 |   2 | 121.83333 |   0 |  14 |      NaN |\n",
       "| 3 | 1 | 1500 | 13500 |  16700 | HomeImp | Other  |  4.0 |   0 |   0 | 149.46667 |   1 |  10 |      NaN |\n",
       "| 4 | 1 | 1500 |   NaN |    NaN | <!----> | <!----> |  NaN | NaN | NaN |       NaN | NaN | NaN |      NaN |\n",
       "| 5 | 0 | 1700 | 97800 | 112000 | HomeImp | Office |  3.0 |   0 |   0 |  93.33333 |   0 |  14 |      NaN |\n",
       "| 6 | 1 | 1700 | 30548 |  40320 | HomeImp | Other  |  9.0 |   0 |   0 | 101.46600 |   1 |   8 | 37.11361 |\n",
       "\n"
      ],
      "text/plain": [
       "  BAD LOAN MORTDUE VALUE  REASON  JOB    YOJ  DEROG DELINQ CLAGE     NINQ CLNO\n",
       "1 1   1100 25860    39025 HomeImp Other  10.5   0     0     94.36667   1    9 \n",
       "2 1   1300 70053    68400 HomeImp Other   7.0   0     2    121.83333   0   14 \n",
       "3 1   1500 13500    16700 HomeImp Other   4.0   0     0    149.46667   1   10 \n",
       "4 1   1500   NaN      NaN                 NaN NaN   NaN          NaN NaN  NaN \n",
       "5 0   1700 97800   112000 HomeImp Office  3.0   0     0     93.33333   0   14 \n",
       "6 1   1700 30548    40320 HomeImp Other   9.0   0     0    101.46600   1    8 \n",
       "  DEBTINC \n",
       "1      NaN\n",
       "2      NaN\n",
       "3      NaN\n",
       "4      NaN\n",
       "5      NaN\n",
       "6 37.11361"
      ]
     },
     "metadata": {},
     "output_type": "display_data"
    }
   ],
   "source": [
    "head(df)"
   ]
  },
  {
   "cell_type": "code",
   "execution_count": 24,
   "metadata": {},
   "outputs": [
    {
     "data": {
      "text/html": [
       "<table>\n",
       "<caption>A data.frame: 6 × 2</caption>\n",
       "<thead>\n",
       "\t<tr><th></th><th scope=col>variable</th><th scope=col>value</th></tr>\n",
       "\t<tr><th></th><th scope=col>&lt;fct&gt;</th><th scope=col>&lt;dbl&gt;</th></tr>\n",
       "</thead>\n",
       "<tbody>\n",
       "\t<tr><th scope=row>1</th><td>BAD</td><td>1</td></tr>\n",
       "\t<tr><th scope=row>2</th><td>BAD</td><td>1</td></tr>\n",
       "\t<tr><th scope=row>3</th><td>BAD</td><td>1</td></tr>\n",
       "\t<tr><th scope=row>4</th><td>BAD</td><td>1</td></tr>\n",
       "\t<tr><th scope=row>5</th><td>BAD</td><td>0</td></tr>\n",
       "\t<tr><th scope=row>6</th><td>BAD</td><td>1</td></tr>\n",
       "</tbody>\n",
       "</table>\n"
      ],
      "text/latex": [
       "A data.frame: 6 × 2\n",
       "\\begin{tabular}{r|ll}\n",
       "  & variable & value\\\\\n",
       "  & <fct> & <dbl>\\\\\n",
       "\\hline\n",
       "\t1 & BAD & 1\\\\\n",
       "\t2 & BAD & 1\\\\\n",
       "\t3 & BAD & 1\\\\\n",
       "\t4 & BAD & 1\\\\\n",
       "\t5 & BAD & 0\\\\\n",
       "\t6 & BAD & 1\\\\\n",
       "\\end{tabular}\n"
      ],
      "text/markdown": [
       "\n",
       "A data.frame: 6 × 2\n",
       "\n",
       "| <!--/--> | variable &lt;fct&gt; | value &lt;dbl&gt; |\n",
       "|---|---|---|\n",
       "| 1 | BAD | 1 |\n",
       "| 2 | BAD | 1 |\n",
       "| 3 | BAD | 1 |\n",
       "| 4 | BAD | 1 |\n",
       "| 5 | BAD | 0 |\n",
       "| 6 | BAD | 1 |\n",
       "\n"
      ],
      "text/plain": [
       "  variable value\n",
       "1 BAD      1    \n",
       "2 BAD      1    \n",
       "3 BAD      1    \n",
       "4 BAD      1    \n",
       "5 BAD      0    \n",
       "6 BAD      1    "
      ]
     },
     "metadata": {},
     "output_type": "display_data"
    }
   ],
   "source": [
    "# Formatacao de dados\n",
    "d <- melt(df[sapply(df, is.numeric)], id.vars=NULL)\n",
    "head(d)"
   ]
  },
  {
   "cell_type": "code",
   "execution_count": 25,
   "metadata": {},
   "outputs": [
    {
     "data": {
      "text/html": [
       "<table>\n",
       "<caption>A data.frame: 6 × 2</caption>\n",
       "<thead>\n",
       "\t<tr><th></th><th scope=col>variable</th><th scope=col>value</th></tr>\n",
       "\t<tr><th></th><th scope=col>&lt;fct&gt;</th><th scope=col>&lt;dbl&gt;</th></tr>\n",
       "</thead>\n",
       "<tbody>\n",
       "\t<tr><th scope=row>65555</th><td>DEBTINC</td><td>     NaN</td></tr>\n",
       "\t<tr><th scope=row>65556</th><td>DEBTINC</td><td>36.08804</td></tr>\n",
       "\t<tr><th scope=row>65557</th><td>DEBTINC</td><td>36.75365</td></tr>\n",
       "\t<tr><th scope=row>65558</th><td>DEBTINC</td><td>36.26269</td></tr>\n",
       "\t<tr><th scope=row>65559</th><td>DEBTINC</td><td>34.75116</td></tr>\n",
       "\t<tr><th scope=row>65560</th><td>DEBTINC</td><td>34.24246</td></tr>\n",
       "</tbody>\n",
       "</table>\n"
      ],
      "text/latex": [
       "A data.frame: 6 × 2\n",
       "\\begin{tabular}{r|ll}\n",
       "  & variable & value\\\\\n",
       "  & <fct> & <dbl>\\\\\n",
       "\\hline\n",
       "\t65555 & DEBTINC &      NaN\\\\\n",
       "\t65556 & DEBTINC & 36.08804\\\\\n",
       "\t65557 & DEBTINC & 36.75365\\\\\n",
       "\t65558 & DEBTINC & 36.26269\\\\\n",
       "\t65559 & DEBTINC & 34.75116\\\\\n",
       "\t65560 & DEBTINC & 34.24246\\\\\n",
       "\\end{tabular}\n"
      ],
      "text/markdown": [
       "\n",
       "A data.frame: 6 × 2\n",
       "\n",
       "| <!--/--> | variable &lt;fct&gt; | value &lt;dbl&gt; |\n",
       "|---|---|---|\n",
       "| 65555 | DEBTINC |      NaN |\n",
       "| 65556 | DEBTINC | 36.08804 |\n",
       "| 65557 | DEBTINC | 36.75365 |\n",
       "| 65558 | DEBTINC | 36.26269 |\n",
       "| 65559 | DEBTINC | 34.75116 |\n",
       "| 65560 | DEBTINC | 34.24246 |\n",
       "\n"
      ],
      "text/plain": [
       "      variable value   \n",
       "65555 DEBTINC       NaN\n",
       "65556 DEBTINC  36.08804\n",
       "65557 DEBTINC  36.75365\n",
       "65558 DEBTINC  36.26269\n",
       "65559 DEBTINC  34.75116\n",
       "65560 DEBTINC  34.24246"
      ]
     },
     "metadata": {},
     "output_type": "display_data"
    }
   ],
   "source": [
    "tail(d)"
   ]
  },
  {
   "cell_type": "code",
   "execution_count": 27,
   "metadata": {},
   "outputs": [
    {
     "name": "stderr",
     "output_type": "stream",
     "text": [
      "Warning message:\n",
      "\"Removed 4740 rows containing non-finite values (stat_bin).\"\n"
     ]
    },
    {
     "data": {
      "image/png": "[encoded data removed]",
      "text/plain": [
       "plot without title"
      ]
     },
     "metadata": {
      "image/png": {
       "height": 420,
       "width": 720
      }
     },
     "output_type": "display_data"
    }
   ],
   "source": [
    "options(repr.plot.width=12, repr.plot.height=7)\n",
    "\n",
    "ggplot(d, aes(x = value)) +\n",
    "    geom_histogram(fill = 'blue', bins = 25) +\n",
    "    facet_wrap(~variable,\n",
    "               scales = 'free_x') "
   ]
  },
  {
   "cell_type": "code",
   "execution_count": 32,
   "metadata": {},
   "outputs": [
    {
     "name": "stderr",
     "output_type": "stream",
     "text": [
      "NOTE: Cloud Analytic Services promoted table HMEQ in caslib CASUSER(sasdemo) to table hmeq in caslib CASUSER(sasdemo).\n",
      "\n"
     ]
    },
    {
     "data": {
      "text/html": [
       "<ol>\n",
       "</ol>\n"
      ],
      "text/latex": [
       "\\begin{enumerate}\n",
       "\\end{enumerate}\n"
      ],
      "text/markdown": [
       "\n",
       "\n"
      ],
      "text/plain": [
       "list()"
      ]
     },
     "metadata": {},
     "output_type": "display_data"
    }
   ],
   "source": [
    "cas.table.promote(conn, name = 'hmeq')"
   ]
  },
  {
   "cell_type": "code",
   "execution_count": 29,
   "metadata": {},
   "outputs": [
    {
     "data": {
      "text/html": [
       "<table>\n",
       "<caption>A casDataFrame: 13 × 4</caption>\n",
       "<thead>\n",
       "\t<tr><th></th><th scope=col>Column</th><th scope=col>NDistinct</th><th scope=col>NMiss</th><th scope=col>Trunc</th></tr>\n",
       "\t<tr><th></th><th scope=col>&lt;chr&gt;</th><th scope=col>&lt;dbl&gt;</th><th scope=col>&lt;dbl&gt;</th><th scope=col>&lt;dbl&gt;</th></tr>\n",
       "</thead>\n",
       "<tbody>\n",
       "\t<tr><th scope=row>1</th><td>BAD    </td><td>   2</td><td>   0</td><td>0</td></tr>\n",
       "\t<tr><th scope=row>2</th><td>LOAN   </td><td> 540</td><td>   0</td><td>0</td></tr>\n",
       "\t<tr><th scope=row>3</th><td>MORTDUE</td><td>5054</td><td> 518</td><td>0</td></tr>\n",
       "\t<tr><th scope=row>4</th><td>VALUE  </td><td>5382</td><td> 112</td><td>0</td></tr>\n",
       "\t<tr><th scope=row>5</th><td>REASON </td><td>   3</td><td> 252</td><td>0</td></tr>\n",
       "\t<tr><th scope=row>6</th><td>JOB    </td><td>   7</td><td> 279</td><td>0</td></tr>\n",
       "\t<tr><th scope=row>7</th><td>YOJ    </td><td> 100</td><td> 515</td><td>0</td></tr>\n",
       "\t<tr><th scope=row>8</th><td>DEROG  </td><td>  12</td><td> 708</td><td>0</td></tr>\n",
       "\t<tr><th scope=row>9</th><td>DELINQ </td><td>  15</td><td> 580</td><td>0</td></tr>\n",
       "\t<tr><th scope=row>10</th><td>CLAGE  </td><td>5315</td><td> 308</td><td>0</td></tr>\n",
       "\t<tr><th scope=row>11</th><td>NINQ   </td><td>  17</td><td> 510</td><td>0</td></tr>\n",
       "\t<tr><th scope=row>12</th><td>CLNO   </td><td>  63</td><td> 222</td><td>0</td></tr>\n",
       "\t<tr><th scope=row>13</th><td>DEBTINC</td><td>4694</td><td>1267</td><td>0</td></tr>\n",
       "</tbody>\n",
       "</table>\n"
      ],
      "text/latex": [
       "A casDataFrame: 13 × 4\n",
       "\\begin{tabular}{r|llll}\n",
       "  & Column & NDistinct & NMiss & Trunc\\\\\n",
       "  & <chr> & <dbl> & <dbl> & <dbl>\\\\\n",
       "\\hline\n",
       "\t1 & BAD     &    2 &    0 & 0\\\\\n",
       "\t2 & LOAN    &  540 &    0 & 0\\\\\n",
       "\t3 & MORTDUE & 5054 &  518 & 0\\\\\n",
       "\t4 & VALUE   & 5382 &  112 & 0\\\\\n",
       "\t5 & REASON  &    3 &  252 & 0\\\\\n",
       "\t6 & JOB     &    7 &  279 & 0\\\\\n",
       "\t7 & YOJ     &  100 &  515 & 0\\\\\n",
       "\t8 & DEROG   &   12 &  708 & 0\\\\\n",
       "\t9 & DELINQ  &   15 &  580 & 0\\\\\n",
       "\t10 & CLAGE   & 5315 &  308 & 0\\\\\n",
       "\t11 & NINQ    &   17 &  510 & 0\\\\\n",
       "\t12 & CLNO    &   63 &  222 & 0\\\\\n",
       "\t13 & DEBTINC & 4694 & 1267 & 0\\\\\n",
       "\\end{tabular}\n"
      ],
      "text/markdown": [
       "\n",
       "A casDataFrame: 13 × 4\n",
       "\n",
       "| <!--/--> | Column &lt;chr&gt; | NDistinct &lt;dbl&gt; | NMiss &lt;dbl&gt; | Trunc &lt;dbl&gt; |\n",
       "|---|---|---|---|---|\n",
       "| 1 | BAD     |    2 |    0 | 0 |\n",
       "| 2 | LOAN    |  540 |    0 | 0 |\n",
       "| 3 | MORTDUE | 5054 |  518 | 0 |\n",
       "| 4 | VALUE   | 5382 |  112 | 0 |\n",
       "| 5 | REASON  |    3 |  252 | 0 |\n",
       "| 6 | JOB     |    7 |  279 | 0 |\n",
       "| 7 | YOJ     |  100 |  515 | 0 |\n",
       "| 8 | DEROG   |   12 |  708 | 0 |\n",
       "| 9 | DELINQ  |   15 |  580 | 0 |\n",
       "| 10 | CLAGE   | 5315 |  308 | 0 |\n",
       "| 11 | NINQ    |   17 |  510 | 0 |\n",
       "| 12 | CLNO    |   63 |  222 | 0 |\n",
       "| 13 | DEBTINC | 4694 | 1267 | 0 |\n",
       "\n"
      ],
      "text/plain": [
       "   Column  NDistinct NMiss Trunc\n",
       "1  BAD        2         0  0    \n",
       "2  LOAN     540         0  0    \n",
       "3  MORTDUE 5054       518  0    \n",
       "4  VALUE   5382       112  0    \n",
       "5  REASON     3       252  0    \n",
       "6  JOB        7       279  0    \n",
       "7  YOJ      100       515  0    \n",
       "8  DEROG     12       708  0    \n",
       "9  DELINQ    15       580  0    \n",
       "10 CLAGE   5315       308  0    \n",
       "11 NINQ      17       510  0    \n",
       "12 CLNO      63       222  0    \n",
       "13 DEBTINC 4694      1267  0    "
      ]
     },
     "metadata": {},
     "output_type": "display_data"
    }
   ],
   "source": [
    "# Ver dados faltantes de todas variaveis\n",
    "tbl <- cas.simple.distinct(castbl)\n",
    "tbl$Distinct"
   ]
  },
  {
   "cell_type": "code",
   "execution_count": null,
   "metadata": {},
   "outputs": [],
   "source": [
    "# Pegando dados missing\n",
    "cas.nmiss(castbl)"
   ]
  },
  {
   "cell_type": "code",
   "execution_count": null,
   "metadata": {},
   "outputs": [],
   "source": [
    "# Visualizacao de missing\n",
    "tbl$PctMiss <- tbl$NMiss/nrow(castbl)"
   ]
  },
  {
   "cell_type": "code",
   "execution_count": null,
   "metadata": {},
   "outputs": [],
   "source": [
    "ggplot(tbl, aes(Column, PctMiss)) +\n",
    "    geom_col(fill = 'blue') +\n",
    "    ggtitle('Pct Missing Values') +\n",
    "    theme(plot.title = element_text(hjust = 0.5))"
   ]
  },
  {
   "cell_type": "code",
   "execution_count": null,
   "metadata": {},
   "outputs": [],
   "source": [
    "# Imputacao de dados missing\n",
    "cas.dataPreprocess.impute(castbl,\n",
    "    methodContinuous = 'MEDIAN',\n",
    "    methodNominal = 'MODE',\n",
    "    inputs = colnames(castbl)[-1],\n",
    "    copyAllVars = TRUE,\n",
    "    casOut = list(name = 'hmeq', \n",
    "                replace = TRUE)\n",
    ")"
   ]
  },
  {
   "cell_type": "code",
   "execution_count": null,
   "metadata": {},
   "outputs": [],
   "source": [
    "# Particionamento de dados\n",
    "cas.sampling.srs(conn,\n",
    "    table = 'hmeq',\n",
    "    samppct = 30,\n",
    "    partind = TRUE,\n",
    "    output = list(casOut = list(name = 'hmeq', replace = T), \n",
    "                  copyVars = 'ALL')\n",
    ")"
   ]
  },
  {
   "cell_type": "code",
   "execution_count": null,
   "metadata": {},
   "outputs": [],
   "source": [
    "hmeq1 <- defCasTable(conn, 'hmeq')"
   ]
  },
  {
   "cell_type": "code",
   "execution_count": null,
   "metadata": {},
   "outputs": [],
   "source": [
    "head(hmeq1)"
   ]
  },
  {
   "cell_type": "code",
   "execution_count": null,
   "metadata": {},
   "outputs": [],
   "source": [
    "indata <- 'hmeq'\n",
    "\n",
    "# Pega infromacao das variaveis\n",
    "colinfo <- head(cas.table.columnInfo(conn, table = indata)$ColumnInfo, -1)"
   ]
  },
  {
   "cell_type": "code",
   "execution_count": null,
   "metadata": {},
   "outputs": [],
   "source": [
    "# Variavel target\n",
    "target <- colinfo$Column[1]\n"
   ]
  },
  {
   "cell_type": "code",
   "execution_count": null,
   "metadata": {},
   "outputs": [],
   "source": [
    "# Separacao para modelos que lidam com missing\n",
    "inputs <- colinfo$Column[-1]\n",
    "nominals <- c(target, subset(colinfo, Type == 'varchar')$Column)"
   ]
  },
  {
   "cell_type": "code",
   "execution_count": null,
   "metadata": {},
   "outputs": [],
   "source": [
    "# Separacao para modelos que nao lidam com missing\n",
    "imp.inputs <- grep('IMP_', inputs, value = T)\n",
    "imp.nominals <- c(target, grep('IMP_', nominals, value = T))"
   ]
  },
  {
   "cell_type": "code",
   "execution_count": null,
   "metadata": {},
   "outputs": [],
   "source": [
    "# Treina modelos\n",
    "## Arvore de decisão\n",
    "cas.decisionTree.dtreeTrain(conn,\n",
    "    table = list(name = indata, where = '_PartInd_ = 0'),\n",
    "    target = target,\n",
    "    inputs = inputs,\n",
    "    nominals = nominals,\n",
    "    varImp = TRUE,\n",
    "    casOut = list(name = 'dt_model', replace = TRUE)\n",
    ")"
   ]
  },
  {
   "cell_type": "code",
   "execution_count": null,
   "metadata": {},
   "outputs": [],
   "source": [
    "## Random Forest\n",
    "cas.decisionTree.forestTrain(conn,\n",
    "    table = list(name = indata, where = '_PartInd_ = 0'),\n",
    "    target = target,\n",
    "    inputs = inputs,\n",
    "    nominals = nominals,\n",
    "    casOut = list(name = 'rf_model', replace = TRUE)\n",
    ")"
   ]
  },
  {
   "cell_type": "code",
   "execution_count": null,
   "metadata": {},
   "outputs": [],
   "source": [
    "## Gradient Boosting\n",
    "cas.decisionTree.gbtreeTrain(conn,\n",
    "    table = list(name = indata, where = '_PartInd_ = 0'),\n",
    "    target = target,\n",
    "    inputs = inputs,\n",
    "    nominals = nominals,\n",
    "    casOut = list(name = 'gbt_model', replace = TRUE)\n",
    ")"
   ]
  },
  {
   "cell_type": "code",
   "execution_count": null,
   "metadata": {},
   "outputs": [],
   "source": [
    "## Neural Network\n",
    "cas.neuralNet.annTrain(conn,\n",
    "    table = list(name = indata, where = '_PartInd_ = 0'),\n",
    "    target = target,\n",
    "    inputs = imp.inputs,\n",
    "    hidden = 7,\n",
    "    nominals = imp.nominals,\n",
    "    casOut = list(name = 'nn_model', replace = TRUE)\n",
    ")"
   ]
  },
  {
   "cell_type": "code",
   "execution_count": null,
   "metadata": {},
   "outputs": [],
   "source": [
    "### Prevendo um unico modelo\n",
    "cas.decisionTree.dtreeScore(\n",
    "    object       = hmeq1,\n",
    "    modelTable   = list(name = 'dt_model'),\n",
    "    copyVars     = list(target, '_PartInd_'),\n",
    "    assessonerow = TRUE,\n",
    "    casOut       = list(name = 'dt_scored', replace = T)\n",
    ")"
   ]
  },
  {
   "cell_type": "code",
   "execution_count": null,
   "metadata": {},
   "outputs": [],
   "source": [
    "dt_scores <- defCasTable(conn, 'dt_scored')"
   ]
  },
  {
   "cell_type": "code",
   "execution_count": null,
   "metadata": {},
   "outputs": [],
   "source": [
    "head(dt_scores)"
   ]
  },
  {
   "cell_type": "code",
   "execution_count": null,
   "metadata": {},
   "outputs": [],
   "source": [
    "models <- c('dt','rf','gbt','nn')\n",
    "scores <- c(cas.decisionTree.dtreeScore, cas.decisionTree.forestScore, \n",
    "            cas.decisionTree.gbtreeScore, cas.neuralNet.annScore)\n",
    "names(scores) <- models"
   ]
  },
  {
   "cell_type": "code",
   "execution_count": null,
   "metadata": {},
   "outputs": [],
   "source": [
    "# Funcao para atumatizar processo de predicao em novos dados\n",
    "score.params <- function(model){return(list(\n",
    "    object       = defCasTable(conn, indata),\n",
    "    modelTable   = list(name = paste0(model, '_model')),\n",
    "    copyVars     = list(target, '_PartInd_'),\n",
    "    assessonerow = TRUE,\n",
    "    casOut       = list(name = paste0(model, '_scored'), replace = T)\n",
    "))}"
   ]
  },
  {
   "cell_type": "code",
   "execution_count": null,
   "metadata": {},
   "outputs": [],
   "source": [
    "lapply(models, \n",
    "       function(x) {do.call(scores[[x]], \n",
    "                            score.params(x))}\n",
    "      )"
   ]
  },
  {
   "cell_type": "code",
   "execution_count": null,
   "metadata": {},
   "outputs": [],
   "source": [
    "# Carrega actionset para a\n",
    "# loadActionSet(conn, 'percentile')"
   ]
  },
  {
   "cell_type": "code",
   "execution_count": null,
   "metadata": {},
   "outputs": [],
   "source": [
    "## assesment de um único modelo\n",
    "asses <-  cas.percentile.assess(conn,\n",
    "        table    = list(name = paste0('dt_scored'), \n",
    "                        where = '_PartInd_ = 1'),\n",
    "        inputs   = paste0('_dt_P_           1'),\n",
    "        response = target,\n",
    "        event    = '1')"
   ]
  },
  {
   "cell_type": "code",
   "execution_count": null,
   "metadata": {},
   "outputs": [],
   "source": [
    "head(asses$LIFTInfo)"
   ]
  },
  {
   "cell_type": "code",
   "execution_count": null,
   "metadata": {},
   "outputs": [],
   "source": [
    "head(asses$ROCInfo)"
   ]
  },
  {
   "cell_type": "code",
   "execution_count": null,
   "metadata": {},
   "outputs": [],
   "source": [
    "# Funcao para comparacao de modelos\n",
    "assess.model <- function(model){\n",
    "    cas.percentile.assess(conn,\n",
    "        table    = list(name = paste0(model,'_scored'), \n",
    "                        where = '_PartInd_ = 1'),\n",
    "        inputs   = paste0('_', model, '_P_           1'),\n",
    "        response = target,\n",
    "        event    = '1')\n",
    "}"
   ]
  },
  {
   "cell_type": "code",
   "execution_count": null,
   "metadata": {},
   "outputs": [],
   "source": [
    "model.names <- c('Decision Tree', 'Random Forest', \n",
    "                 'Gradient Boosting', 'Neural Network')\n",
    "roc.df <- data.frame()\n",
    "\n",
    "for (i in 1:length(models)){\n",
    "    tmp <- (assess.model(models[i]))$ROCInfo\n",
    "    tmp$Model <- model.names[i] \n",
    "    roc.df <- rbind(roc.df, tmp)\n",
    "}"
   ]
  },
  {
   "cell_type": "code",
   "execution_count": null,
   "metadata": {},
   "outputs": [],
   "source": [
    "# Manipulacao do DF\n",
    "compare <- subset(roc.df, round(roc.df$CutOff, 2) == 0.5)\n",
    "rownames(compare) <- NULL\n",
    "compare[,c('Model','TP','FP','FN','TN')]"
   ]
  },
  {
   "cell_type": "code",
   "execution_count": null,
   "metadata": {},
   "outputs": [],
   "source": [
    "# Cria dataframe pra comparar missclassification\n",
    "compare$Misclassification <- 1 - compare$ACC\n",
    "miss <- compare[order(compare$Misclassification), c('Model','Misclassification')]\n",
    "rownames(miss) <- NULL\n",
    "miss"
   ]
  },
  {
   "cell_type": "code",
   "execution_count": null,
   "metadata": {},
   "outputs": [],
   "source": [
    "# Add nova coluna pra ser usada com label da curva Roc\n",
    "roc.df$Models <- paste(roc.df$Model, round(roc.df$C, 3), sep = ' - ')"
   ]
  },
  {
   "cell_type": "code",
   "execution_count": null,
   "metadata": {},
   "outputs": [],
   "source": [
    "# Cria curva ROC\n",
    "options(repr.plot.width=14, repr.plot.height=6)\n",
    "\n",
    "plot <- ggplot(data = roc.df[c('FPR', 'Sensitivity', 'Models')],\n",
    "    aes(x = FPR, y = Sensitivity, colour = Models)) +\n",
    "    geom_line(size =1.2) +\n",
    "    labs(x = 'False Positive Rate', y = 'True Positive Rate')\n",
    "plot"
   ]
  },
  {
   "cell_type": "code",
   "execution_count": null,
   "metadata": {},
   "outputs": [],
   "source": [
    "plotly::embed_notebook(plotly::ggplotly(plot))"
   ]
  },
  {
   "cell_type": "code",
   "execution_count": null,
   "metadata": {},
   "outputs": [],
   "source": [
    "# Fim sessao\n",
    "cas.session.endSession(conn)"
   ]
  }
 ],
 "metadata": {
  "kernelspec": {
   "display_name": "R",
   "language": "R",
   "name": "ir"
  },
  "language_info": {
   "codemirror_mode": "r",
   "file_extension": ".r",
   "mimetype": "text/x-r-source",
   "name": "R",
   "pygments_lexer": "r",
   "version": "4.0.0"
  }
 },
 "nbformat": 4,
 "nbformat_minor": 4
}
