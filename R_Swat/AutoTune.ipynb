{
 "cells": [
  {
   "cell_type": "markdown",
   "metadata": {},
   "source": [
    "## R SWAT Auto tuning"
   ]
  },
  {
   "cell_type": "markdown",
   "metadata": {},
   "source": [
    "AutoTune actionset: https://go.documentation.sas.com/?cdcId=pgmsascdc&cdcVersion=9.4_3.5&docsetId=casactml&docsetTarget=cas-autotune-tuneall.htm&locale=pt-BR"
   ]
  },
  {
   "cell_type": "code",
   "execution_count": null,
   "metadata": {},
   "outputs": [],
   "source": [
    "# Load necessary packages\n",
    "library('swat')\n",
    "\n",
    "#options(cas.print.messages = FALSE)"
   ]
  },
  {
   "cell_type": "code",
   "execution_count": null,
   "metadata": {},
   "outputs": [],
   "source": [
    "conn <- CAS('pdcesx14134.exnet.sas.com', \n",
    "            port=8777, protocol = \"http\",\n",
    "            caslib = 'casuser', \n",
    "            authinfo = './.authinfo')"
   ]
  },
  {
   "cell_type": "code",
   "execution_count": null,
   "metadata": {},
   "outputs": [],
   "source": [
    "## Carregando Actionsets no CAS\n",
    "actionsets <- c('sampling', 'decisionTree', 'autotune', 'percentile')\n",
    "\n",
    "for(i in actionsets){\n",
    "    loadActionSet(conn, i)\n",
    "}"
   ]
  },
  {
   "cell_type": "code",
   "execution_count": null,
   "metadata": {},
   "outputs": [],
   "source": [
    "# Carregando dados para CAS\n",
    "castbl <- cas.read.csv(conn, './data/hmeq.csv')"
   ]
  },
  {
   "cell_type": "code",
   "execution_count": null,
   "metadata": {},
   "outputs": [],
   "source": [
    "# Particionamento de dados\n",
    "cas.sampling.srs(conn,\n",
    "    table = 'hmeq',\n",
    "    samppct = 30,\n",
    "    partind = TRUE,\n",
    "    output = list(casOut = list(name = 'hmeq', replace = T), \n",
    "                  copyVars = 'ALL')\n",
    ")"
   ]
  },
  {
   "cell_type": "code",
   "execution_count": null,
   "metadata": {},
   "outputs": [],
   "source": [
    "indata <- 'hmeq'\n",
    "\n",
    "# Pega infromacao das variaveis\n",
    "colinfo <- head(cas.table.columnInfo(conn, table = indata)$ColumnInfo, -1)"
   ]
  },
  {
   "cell_type": "code",
   "execution_count": null,
   "metadata": {},
   "outputs": [],
   "source": [
    "# Variavel target\n",
    "target <- colinfo$Column[1]\n"
   ]
  },
  {
   "cell_type": "code",
   "execution_count": null,
   "metadata": {},
   "outputs": [],
   "source": [
    "# Separacao para modelos que lidam com missing\n",
    "inputs <- colinfo$Column[-1]\n",
    "nominals <- c(target, subset(colinfo, Type == 'varchar')$Column)"
   ]
  },
  {
   "cell_type": "code",
   "execution_count": null,
   "metadata": {},
   "outputs": [],
   "source": [
    "result <- cas.autotune.tuneGradientBoostTree(conn,\n",
    "           trainOptions = list(\n",
    "              table   = list(\"name\"= \"hmeq\", where = '_PartInd_ = 0'),\n",
    "              inputs  = inputs,\n",
    "              target = target,\n",
    "              nominal = nominals,\n",
    "              casout  = list(name =\"tune_boost_model\", replace = TRUE)\n",
    "           ),\n",
    "           tunerOptions=list(seed = 12345)\n",
    "      )"
   ]
  },
  {
   "cell_type": "code",
   "execution_count": null,
   "metadata": {},
   "outputs": [],
   "source": [
    "print(result$TunerInfo)"
   ]
  },
  {
   "cell_type": "code",
   "execution_count": null,
   "metadata": {},
   "outputs": [],
   "source": [
    "  print(result$TunerResults)"
   ]
  },
  {
   "cell_type": "code",
   "execution_count": null,
   "metadata": {},
   "outputs": [],
   "source": [
    "  print(result$IterationHistory)"
   ]
  },
  {
   "cell_type": "code",
   "execution_count": null,
   "metadata": {},
   "outputs": [],
   "source": [
    "  print(result$IterationHistory)"
   ]
  },
  {
   "cell_type": "code",
   "execution_count": null,
   "metadata": {},
   "outputs": [],
   "source": [
    "  print(result$EvaluationHistory)"
   ]
  },
  {
   "cell_type": "code",
   "execution_count": null,
   "metadata": {},
   "outputs": [],
   "source": [
    "  print(result$BestConfiguration)"
   ]
  },
  {
   "cell_type": "code",
   "execution_count": null,
   "metadata": {},
   "outputs": [],
   "source": [
    "  print(result$TunerSummary)"
   ]
  },
  {
   "cell_type": "code",
   "execution_count": null,
   "metadata": {},
   "outputs": [],
   "source": [
    "  print(result$TunerTiming)"
   ]
  },
  {
   "cell_type": "code",
   "execution_count": null,
   "metadata": {},
   "outputs": [],
   "source": [
    "  print(result$TunerCasOutputTables)"
   ]
  },
  {
   "cell_type": "code",
   "execution_count": null,
   "metadata": {},
   "outputs": [],
   "source": [
    "  print(result$HyperparameterImportance)"
   ]
  },
  {
   "cell_type": "code",
   "execution_count": null,
   "metadata": {},
   "outputs": [],
   "source": [
    "\n",
    "### Prevendo um unico modelo\n",
    "cas.decisionTree.gbtreeScore(conn,\n",
    "    table = list(name = 'hmeq'),\n",
    "    modelTable   = list(name = 'tune_boost_model'),\n",
    "    copyVars     = list(target, '_PartInd_'),\n",
    "    assessonerow = TRUE,\n",
    "    casOut       = list(name = 'gb_tune_scored', replace = T)\n",
    ")"
   ]
  },
  {
   "cell_type": "code",
   "execution_count": null,
   "metadata": {},
   "outputs": [],
   "source": [
    "dt_scores <- defCasTable(conn, 'gb_tune_scored')"
   ]
  },
  {
   "cell_type": "code",
   "execution_count": null,
   "metadata": {},
   "outputs": [],
   "source": [
    "head(dt_scores)"
   ]
  },
  {
   "cell_type": "code",
   "execution_count": null,
   "metadata": {},
   "outputs": [],
   "source": [
    "asses_info <- cas.percentile.assess(conn,\n",
    "        table    = list(name = paste0('gb_tune_scored'), \n",
    "                        where = '_PartInd_ = 1'),\n",
    "        inputs   = paste0('_GBT_P_           1'),\n",
    "        response = target,\n",
    "        event    = '1')"
   ]
  },
  {
   "cell_type": "code",
   "execution_count": null,
   "metadata": {},
   "outputs": [],
   "source": [
    "roc <- asses_info$ROCInfo"
   ]
  },
  {
   "cell_type": "code",
   "execution_count": null,
   "metadata": {},
   "outputs": [],
   "source": [
    "# Manipulacao do DF\n",
    "compare <- subset(roc, round(roc$CutOff, 2) == 0.49)\n",
    "rownames(compare) <- NULL\n",
    "compare[,c('TP','FP','FN','TN')]"
   ]
  },
  {
   "cell_type": "code",
   "execution_count": null,
   "metadata": {},
   "outputs": [],
   "source": [
    "library('ggplot2')"
   ]
  },
  {
   "cell_type": "code",
   "execution_count": null,
   "metadata": {},
   "outputs": [],
   "source": [
    "# Cria curva ROC\n",
    "options(repr.plot.width=14, repr.plot.height=6)\n",
    "\n",
    "plt <- ggplot(data = roc[c('FPR', 'Sensitivity')],\n",
    "    aes(x = FPR, y = Sensitivity)) +\n",
    "    geom_line(size =1.2) +\n",
    "    labs(x = 'False Positive Rate', y = 'True Positive Rate') +\n",
    "    theme_bw()\n",
    "plt"
   ]
  },
  {
   "cell_type": "code",
   "execution_count": null,
   "metadata": {},
   "outputs": [],
   "source": [
    "embed_notebook(ggplotly(plt))"
   ]
  },
  {
   "cell_type": "code",
   "execution_count": null,
   "metadata": {},
   "outputs": [],
   "source": [
    "plt <- ggplot(data = roc[,c('ACC', 'CutOff')],\n",
    "    aes(y = ACC, x = CutOff, color = ACC)) +\n",
    "    geom_segment(aes(x=CutOff, xend=dplyr::lead(CutOff), y=ACC, yend=dplyr::lead(ACC))) +\n",
    "  scale_colour_gradient2(low=\"red\", mid = 'red', high=\"green\")+\n",
    "    labs(x = 'CutOff', y = 'Accuracy') +\n",
    "    theme_bw()\n",
    "plt"
   ]
  },
  {
   "cell_type": "code",
   "execution_count": null,
   "metadata": {},
   "outputs": [],
   "source": [
    "embed_notebook(ggplotly(plt))"
   ]
  },
  {
   "cell_type": "code",
   "execution_count": null,
   "metadata": {},
   "outputs": [],
   "source": [
    "cas.session.endSession(conn)"
   ]
  }
 ],
 "metadata": {
  "kernelspec": {
   "display_name": "R",
   "language": "R",
   "name": "ir"
  },
  "language_info": {
   "codemirror_mode": "r",
   "file_extension": ".r",
   "mimetype": "text/x-r-source",
   "name": "R",
   "pygments_lexer": "r",
   "version": "4.0.0"
  }
 },
 "nbformat": 4,
 "nbformat_minor": 4
}
