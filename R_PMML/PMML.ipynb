{
 "cells": [
  {
   "cell_type": "code",
   "execution_count": 1,
   "metadata": {},
   "outputs": [
    {
     "name": "stderr",
     "output_type": "stream",
     "text": [
      "Warning message:\n",
      "\"package 'fastDummies' was built under R version 4.0.2\"\n",
      "Loading required package: XML\n",
      "\n",
      "Warning message:\n",
      "\"package 'missForest' was built under R version 4.0.2\"\n",
      "Loading required package: randomForest\n",
      "\n",
      "Warning message:\n",
      "\"package 'randomForest' was built under R version 4.0.2\"\n",
      "randomForest 4.6-14\n",
      "\n",
      "Type rfNews() to see new features/changes/bug fixes.\n",
      "\n",
      "Loading required package: foreach\n",
      "\n",
      "Warning message:\n",
      "\"package 'foreach' was built under R version 4.0.2\"\n",
      "Loading required package: itertools\n",
      "\n",
      "Warning message:\n",
      "\"package 'itertools' was built under R version 4.0.2\"\n",
      "Loading required package: iterators\n",
      "\n",
      "Warning message:\n",
      "\"package 'iterators' was built under R version 4.0.2\"\n"
     ]
    }
   ],
   "source": [
    "library('fastDummies')\n",
    "library('pmml')\n",
    "library('missForest')"
   ]
  },
  {
   "cell_type": "code",
   "execution_count": 2,
   "metadata": {},
   "outputs": [],
   "source": [
    "data <- read.csv('./hmeq.csv', header=T, na.string=c(\"\"))"
   ]
  },
  {
   "cell_type": "code",
   "execution_count": 3,
   "metadata": {},
   "outputs": [
    {
     "data": {
      "text/html": [
       "13"
      ],
      "text/latex": [
       "13"
      ],
      "text/markdown": [
       "13"
      ],
      "text/plain": [
       "[1] 13"
      ]
     },
     "metadata": {},
     "output_type": "display_data"
    }
   ],
   "source": [
    "ncol(data)"
   ]
  },
  {
   "cell_type": "code",
   "execution_count": 4,
   "metadata": {},
   "outputs": [
    {
     "data": {
      "text/html": [
       "<table>\n",
       "<caption>A data.frame: 6 × 13</caption>\n",
       "<thead>\n",
       "\t<tr><th></th><th scope=col>BAD</th><th scope=col>LOAN</th><th scope=col>MORTDUE</th><th scope=col>VALUE</th><th scope=col>REASON</th><th scope=col>JOB</th><th scope=col>YOJ</th><th scope=col>DEROG</th><th scope=col>DELINQ</th><th scope=col>CLAGE</th><th scope=col>NINQ</th><th scope=col>CLNO</th><th scope=col>DEBTINC</th></tr>\n",
       "\t<tr><th></th><th scope=col>&lt;int&gt;</th><th scope=col>&lt;int&gt;</th><th scope=col>&lt;dbl&gt;</th><th scope=col>&lt;dbl&gt;</th><th scope=col>&lt;chr&gt;</th><th scope=col>&lt;chr&gt;</th><th scope=col>&lt;dbl&gt;</th><th scope=col>&lt;int&gt;</th><th scope=col>&lt;int&gt;</th><th scope=col>&lt;dbl&gt;</th><th scope=col>&lt;int&gt;</th><th scope=col>&lt;int&gt;</th><th scope=col>&lt;dbl&gt;</th></tr>\n",
       "</thead>\n",
       "<tbody>\n",
       "\t<tr><th scope=row>1</th><td>1</td><td>1100</td><td>25860</td><td> 39025</td><td>HomeImp</td><td>Other </td><td>10.5</td><td> 0</td><td> 0</td><td> 94.36667</td><td> 1</td><td> 9</td><td>      NA</td></tr>\n",
       "\t<tr><th scope=row>2</th><td>1</td><td>1300</td><td>70053</td><td> 68400</td><td>HomeImp</td><td>Other </td><td> 7.0</td><td> 0</td><td> 2</td><td>121.83333</td><td> 0</td><td>14</td><td>      NA</td></tr>\n",
       "\t<tr><th scope=row>3</th><td>1</td><td>1500</td><td>13500</td><td> 16700</td><td>HomeImp</td><td>Other </td><td> 4.0</td><td> 0</td><td> 0</td><td>149.46667</td><td> 1</td><td>10</td><td>      NA</td></tr>\n",
       "\t<tr><th scope=row>4</th><td>1</td><td>1500</td><td>   NA</td><td>    NA</td><td>NA     </td><td>NA    </td><td>  NA</td><td>NA</td><td>NA</td><td>       NA</td><td>NA</td><td>NA</td><td>      NA</td></tr>\n",
       "\t<tr><th scope=row>5</th><td>0</td><td>1700</td><td>97800</td><td>112000</td><td>HomeImp</td><td>Office</td><td> 3.0</td><td> 0</td><td> 0</td><td> 93.33333</td><td> 0</td><td>14</td><td>      NA</td></tr>\n",
       "\t<tr><th scope=row>6</th><td>1</td><td>1700</td><td>30548</td><td> 40320</td><td>HomeImp</td><td>Other </td><td> 9.0</td><td> 0</td><td> 0</td><td>101.46600</td><td> 1</td><td> 8</td><td>37.11361</td></tr>\n",
       "</tbody>\n",
       "</table>\n"
      ],
      "text/latex": [
       "A data.frame: 6 × 13\n",
       "\\begin{tabular}{r|lllllllllllll}\n",
       "  & BAD & LOAN & MORTDUE & VALUE & REASON & JOB & YOJ & DEROG & DELINQ & CLAGE & NINQ & CLNO & DEBTINC\\\\\n",
       "  & <int> & <int> & <dbl> & <dbl> & <chr> & <chr> & <dbl> & <int> & <int> & <dbl> & <int> & <int> & <dbl>\\\\\n",
       "\\hline\n",
       "\t1 & 1 & 1100 & 25860 &  39025 & HomeImp & Other  & 10.5 &  0 &  0 &  94.36667 &  1 &  9 &       NA\\\\\n",
       "\t2 & 1 & 1300 & 70053 &  68400 & HomeImp & Other  &  7.0 &  0 &  2 & 121.83333 &  0 & 14 &       NA\\\\\n",
       "\t3 & 1 & 1500 & 13500 &  16700 & HomeImp & Other  &  4.0 &  0 &  0 & 149.46667 &  1 & 10 &       NA\\\\\n",
       "\t4 & 1 & 1500 &    NA &     NA & NA      & NA     &   NA & NA & NA &        NA & NA & NA &       NA\\\\\n",
       "\t5 & 0 & 1700 & 97800 & 112000 & HomeImp & Office &  3.0 &  0 &  0 &  93.33333 &  0 & 14 &       NA\\\\\n",
       "\t6 & 1 & 1700 & 30548 &  40320 & HomeImp & Other  &  9.0 &  0 &  0 & 101.46600 &  1 &  8 & 37.11361\\\\\n",
       "\\end{tabular}\n"
      ],
      "text/markdown": [
       "\n",
       "A data.frame: 6 × 13\n",
       "\n",
       "| <!--/--> | BAD &lt;int&gt; | LOAN &lt;int&gt; | MORTDUE &lt;dbl&gt; | VALUE &lt;dbl&gt; | REASON &lt;chr&gt; | JOB &lt;chr&gt; | YOJ &lt;dbl&gt; | DEROG &lt;int&gt; | DELINQ &lt;int&gt; | CLAGE &lt;dbl&gt; | NINQ &lt;int&gt; | CLNO &lt;int&gt; | DEBTINC &lt;dbl&gt; |\n",
       "|---|---|---|---|---|---|---|---|---|---|---|---|---|---|\n",
       "| 1 | 1 | 1100 | 25860 |  39025 | HomeImp | Other  | 10.5 |  0 |  0 |  94.36667 |  1 |  9 |       NA |\n",
       "| 2 | 1 | 1300 | 70053 |  68400 | HomeImp | Other  |  7.0 |  0 |  2 | 121.83333 |  0 | 14 |       NA |\n",
       "| 3 | 1 | 1500 | 13500 |  16700 | HomeImp | Other  |  4.0 |  0 |  0 | 149.46667 |  1 | 10 |       NA |\n",
       "| 4 | 1 | 1500 |    NA |     NA | NA      | NA     |   NA | NA | NA |        NA | NA | NA |       NA |\n",
       "| 5 | 0 | 1700 | 97800 | 112000 | HomeImp | Office |  3.0 |  0 |  0 |  93.33333 |  0 | 14 |       NA |\n",
       "| 6 | 1 | 1700 | 30548 |  40320 | HomeImp | Other  |  9.0 |  0 |  0 | 101.46600 |  1 |  8 | 37.11361 |\n",
       "\n"
      ],
      "text/plain": [
       "  BAD LOAN MORTDUE VALUE  REASON  JOB    YOJ  DEROG DELINQ CLAGE     NINQ CLNO\n",
       "1 1   1100 25860    39025 HomeImp Other  10.5  0     0      94.36667  1    9  \n",
       "2 1   1300 70053    68400 HomeImp Other   7.0  0     2     121.83333  0   14  \n",
       "3 1   1500 13500    16700 HomeImp Other   4.0  0     0     149.46667  1   10  \n",
       "4 1   1500    NA       NA NA      NA       NA NA    NA            NA NA   NA  \n",
       "5 0   1700 97800   112000 HomeImp Office  3.0  0     0      93.33333  0   14  \n",
       "6 1   1700 30548    40320 HomeImp Other   9.0  0     0     101.46600  1    8  \n",
       "  DEBTINC \n",
       "1       NA\n",
       "2       NA\n",
       "3       NA\n",
       "4       NA\n",
       "5       NA\n",
       "6 37.11361"
      ]
     },
     "metadata": {},
     "output_type": "display_data"
    }
   ],
   "source": [
    "head(data)"
   ]
  },
  {
   "cell_type": "code",
   "execution_count": 5,
   "metadata": {},
   "outputs": [],
   "source": [
    "data <- data.frame( CLAGE = as.numeric(data$CLAGE),\n",
    "                 CLNO = as.numeric(data$CLNO),\n",
    "                 DEBTINC = as.numeric(data$DEBTINC),\n",
    "                 DELINQ = as.numeric(data$DELINQ),\n",
    "                 DEROG = as.numeric(data$DEROG),\n",
    "                 LOAN = as.numeric(data$LOAN),\n",
    "                 MORTDUE = as.numeric(data$MORTDUE),\n",
    "                 NINQ = as.numeric(data$NINQ),\n",
    "                 VALUE = as.numeric(data$VALUE),\n",
    "                 YOJ = as.numeric(data$YOJ),\n",
    "                 JOB = as.factor(data$JOB),\n",
    "                 REASON = as.factor(data$REASON),\n",
    "                 BAD = as.factor(data$BAD),\n",
    "                 stringsAsFactors = FALSE)"
   ]
  },
  {
   "cell_type": "code",
   "execution_count": 6,
   "metadata": {},
   "outputs": [
    {
     "name": "stdout",
     "output_type": "stream",
     "text": [
      "  missForest iteration 1 in progress...done!\n",
      "  missForest iteration 2 in progress...done!\n"
     ]
    }
   ],
   "source": [
    "imp <- missForest(data, maxiter = 2, ntree = 10)"
   ]
  },
  {
   "cell_type": "code",
   "execution_count": 7,
   "metadata": {},
   "outputs": [
    {
     "data": {
      "text/html": [
       "<style>\n",
       ".dl-inline {width: auto; margin:0; padding: 0}\n",
       ".dl-inline>dt, .dl-inline>dd {float: none; width: auto; display: inline-block}\n",
       ".dl-inline>dt::after {content: \":\\0020\"; padding-right: .5ex}\n",
       ".dl-inline>dt:not(:first-of-type) {padding-left: .5ex}\n",
       "</style><dl class=dl-inline><dt>NRMSE</dt><dd>0.184627755340493</dd><dt>PFC</dt><dd>0.106991574868569</dd></dl>\n"
      ],
      "text/latex": [
       "\\begin{description*}\n",
       "\\item[NRMSE] 0.184627755340493\n",
       "\\item[PFC] 0.106991574868569\n",
       "\\end{description*}\n"
      ],
      "text/markdown": [
       "NRMSE\n",
       ":   0.184627755340493PFC\n",
       ":   0.106991574868569\n",
       "\n"
      ],
      "text/plain": [
       "    NRMSE       PFC \n",
       "0.1846278 0.1069916 "
      ]
     },
     "metadata": {},
     "output_type": "display_data"
    }
   ],
   "source": [
    "imp$OOBerror"
   ]
  },
  {
   "cell_type": "code",
   "execution_count": 8,
   "metadata": {},
   "outputs": [],
   "source": [
    "imp_f <- imp$ximp"
   ]
  },
  {
   "cell_type": "code",
   "execution_count": 9,
   "metadata": {},
   "outputs": [
    {
     "data": {
      "text/html": [
       "<table>\n",
       "<caption>A data.frame: 6 × 23</caption>\n",
       "<thead>\n",
       "\t<tr><th></th><th scope=col>CLAGE</th><th scope=col>CLNO</th><th scope=col>DEBTINC</th><th scope=col>DELINQ</th><th scope=col>DEROG</th><th scope=col>LOAN</th><th scope=col>MORTDUE</th><th scope=col>NINQ</th><th scope=col>VALUE</th><th scope=col>YOJ</th><th scope=col>...</th><th scope=col>JOB_Mgr</th><th scope=col>JOB_Office</th><th scope=col>JOB_Other</th><th scope=col>JOB_ProfExe</th><th scope=col>JOB_Sales</th><th scope=col>JOB_Self</th><th scope=col>REASON_DebtCon</th><th scope=col>REASON_HomeImp</th><th scope=col>BAD_0</th><th scope=col>BAD_1</th></tr>\n",
       "\t<tr><th></th><th scope=col>&lt;dbl&gt;</th><th scope=col>&lt;dbl&gt;</th><th scope=col>&lt;dbl&gt;</th><th scope=col>&lt;dbl&gt;</th><th scope=col>&lt;dbl&gt;</th><th scope=col>&lt;dbl&gt;</th><th scope=col>&lt;dbl&gt;</th><th scope=col>&lt;dbl&gt;</th><th scope=col>&lt;dbl&gt;</th><th scope=col>&lt;dbl&gt;</th><th scope=col>...</th><th scope=col>&lt;int&gt;</th><th scope=col>&lt;int&gt;</th><th scope=col>&lt;int&gt;</th><th scope=col>&lt;int&gt;</th><th scope=col>&lt;int&gt;</th><th scope=col>&lt;int&gt;</th><th scope=col>&lt;int&gt;</th><th scope=col>&lt;int&gt;</th><th scope=col>&lt;int&gt;</th><th scope=col>&lt;int&gt;</th></tr>\n",
       "</thead>\n",
       "<tbody>\n",
       "\t<tr><th scope=row>1</th><td> 94.36667</td><td> 9.0</td><td>35.89829</td><td>0</td><td>0</td><td>1100</td><td>25860.0</td><td>1.0</td><td> 39025.0</td><td>10.5</td><td>...</td><td>0</td><td>0</td><td>1</td><td>0</td><td>0</td><td>0</td><td>0</td><td>1</td><td>0</td><td>1</td></tr>\n",
       "\t<tr><th scope=row>2</th><td>121.83333</td><td>14.0</td><td>35.67594</td><td>2</td><td>0</td><td>1300</td><td>70053.0</td><td>0.0</td><td> 68400.0</td><td> 7.0</td><td>...</td><td>0</td><td>0</td><td>1</td><td>0</td><td>0</td><td>0</td><td>0</td><td>1</td><td>0</td><td>1</td></tr>\n",
       "\t<tr><th scope=row>3</th><td>149.46667</td><td>10.0</td><td>24.76203</td><td>0</td><td>0</td><td>1500</td><td>13500.0</td><td>1.0</td><td> 16700.0</td><td> 4.0</td><td>...</td><td>0</td><td>0</td><td>1</td><td>0</td><td>0</td><td>0</td><td>0</td><td>1</td><td>0</td><td>1</td></tr>\n",
       "\t<tr><th scope=row>4</th><td>144.40410</td><td>25.6</td><td>39.25600</td><td>2</td><td>1</td><td>1500</td><td>42126.3</td><td>1.2</td><td> 76258.5</td><td>12.6</td><td>...</td><td>0</td><td>0</td><td>1</td><td>0</td><td>0</td><td>0</td><td>1</td><td>0</td><td>0</td><td>1</td></tr>\n",
       "\t<tr><th scope=row>5</th><td> 93.33333</td><td>14.0</td><td>30.78656</td><td>0</td><td>0</td><td>1700</td><td>97800.0</td><td>0.0</td><td>112000.0</td><td> 3.0</td><td>...</td><td>0</td><td>1</td><td>0</td><td>0</td><td>0</td><td>0</td><td>0</td><td>1</td><td>1</td><td>0</td></tr>\n",
       "\t<tr><th scope=row>6</th><td>101.46600</td><td> 8.0</td><td>37.11361</td><td>0</td><td>0</td><td>1700</td><td>30548.0</td><td>1.0</td><td> 40320.0</td><td> 9.0</td><td>...</td><td>0</td><td>0</td><td>1</td><td>0</td><td>0</td><td>0</td><td>0</td><td>1</td><td>0</td><td>1</td></tr>\n",
       "</tbody>\n",
       "</table>\n"
      ],
      "text/latex": [
       "A data.frame: 6 × 23\n",
       "\\begin{tabular}{r|lllllllllllllllllllll}\n",
       "  & CLAGE & CLNO & DEBTINC & DELINQ & DEROG & LOAN & MORTDUE & NINQ & VALUE & YOJ & ... & JOB\\_Mgr & JOB\\_Office & JOB\\_Other & JOB\\_ProfExe & JOB\\_Sales & JOB\\_Self & REASON\\_DebtCon & REASON\\_HomeImp & BAD\\_0 & BAD\\_1\\\\\n",
       "  & <dbl> & <dbl> & <dbl> & <dbl> & <dbl> & <dbl> & <dbl> & <dbl> & <dbl> & <dbl> & ... & <int> & <int> & <int> & <int> & <int> & <int> & <int> & <int> & <int> & <int>\\\\\n",
       "\\hline\n",
       "\t1 &  94.36667 &  9.0 & 35.89829 & 0 & 0 & 1100 & 25860.0 & 1.0 &  39025.0 & 10.5 & ... & 0 & 0 & 1 & 0 & 0 & 0 & 0 & 1 & 0 & 1\\\\\n",
       "\t2 & 121.83333 & 14.0 & 35.67594 & 2 & 0 & 1300 & 70053.0 & 0.0 &  68400.0 &  7.0 & ... & 0 & 0 & 1 & 0 & 0 & 0 & 0 & 1 & 0 & 1\\\\\n",
       "\t3 & 149.46667 & 10.0 & 24.76203 & 0 & 0 & 1500 & 13500.0 & 1.0 &  16700.0 &  4.0 & ... & 0 & 0 & 1 & 0 & 0 & 0 & 0 & 1 & 0 & 1\\\\\n",
       "\t4 & 144.40410 & 25.6 & 39.25600 & 2 & 1 & 1500 & 42126.3 & 1.2 &  76258.5 & 12.6 & ... & 0 & 0 & 1 & 0 & 0 & 0 & 1 & 0 & 0 & 1\\\\\n",
       "\t5 &  93.33333 & 14.0 & 30.78656 & 0 & 0 & 1700 & 97800.0 & 0.0 & 112000.0 &  3.0 & ... & 0 & 1 & 0 & 0 & 0 & 0 & 0 & 1 & 1 & 0\\\\\n",
       "\t6 & 101.46600 &  8.0 & 37.11361 & 0 & 0 & 1700 & 30548.0 & 1.0 &  40320.0 &  9.0 & ... & 0 & 0 & 1 & 0 & 0 & 0 & 0 & 1 & 0 & 1\\\\\n",
       "\\end{tabular}\n"
      ],
      "text/markdown": [
       "\n",
       "A data.frame: 6 × 23\n",
       "\n",
       "| <!--/--> | CLAGE &lt;dbl&gt; | CLNO &lt;dbl&gt; | DEBTINC &lt;dbl&gt; | DELINQ &lt;dbl&gt; | DEROG &lt;dbl&gt; | LOAN &lt;dbl&gt; | MORTDUE &lt;dbl&gt; | NINQ &lt;dbl&gt; | VALUE &lt;dbl&gt; | YOJ &lt;dbl&gt; | ... ... | JOB_Mgr &lt;int&gt; | JOB_Office &lt;int&gt; | JOB_Other &lt;int&gt; | JOB_ProfExe &lt;int&gt; | JOB_Sales &lt;int&gt; | JOB_Self &lt;int&gt; | REASON_DebtCon &lt;int&gt; | REASON_HomeImp &lt;int&gt; | BAD_0 &lt;int&gt; | BAD_1 &lt;int&gt; |\n",
       "|---|---|---|---|---|---|---|---|---|---|---|---|---|---|---|---|---|---|---|---|---|---|\n",
       "| 1 |  94.36667 |  9.0 | 35.89829 | 0 | 0 | 1100 | 25860.0 | 1.0 |  39025.0 | 10.5 | ... | 0 | 0 | 1 | 0 | 0 | 0 | 0 | 1 | 0 | 1 |\n",
       "| 2 | 121.83333 | 14.0 | 35.67594 | 2 | 0 | 1300 | 70053.0 | 0.0 |  68400.0 |  7.0 | ... | 0 | 0 | 1 | 0 | 0 | 0 | 0 | 1 | 0 | 1 |\n",
       "| 3 | 149.46667 | 10.0 | 24.76203 | 0 | 0 | 1500 | 13500.0 | 1.0 |  16700.0 |  4.0 | ... | 0 | 0 | 1 | 0 | 0 | 0 | 0 | 1 | 0 | 1 |\n",
       "| 4 | 144.40410 | 25.6 | 39.25600 | 2 | 1 | 1500 | 42126.3 | 1.2 |  76258.5 | 12.6 | ... | 0 | 0 | 1 | 0 | 0 | 0 | 1 | 0 | 0 | 1 |\n",
       "| 5 |  93.33333 | 14.0 | 30.78656 | 0 | 0 | 1700 | 97800.0 | 0.0 | 112000.0 |  3.0 | ... | 0 | 1 | 0 | 0 | 0 | 0 | 0 | 1 | 1 | 0 |\n",
       "| 6 | 101.46600 |  8.0 | 37.11361 | 0 | 0 | 1700 | 30548.0 | 1.0 |  40320.0 |  9.0 | ... | 0 | 0 | 1 | 0 | 0 | 0 | 0 | 1 | 0 | 1 |\n",
       "\n"
      ],
      "text/plain": [
       "  CLAGE     CLNO DEBTINC  DELINQ DEROG LOAN MORTDUE NINQ VALUE    YOJ  ...\n",
       "1  94.36667  9.0 35.89829 0      0     1100 25860.0 1.0   39025.0 10.5 ...\n",
       "2 121.83333 14.0 35.67594 2      0     1300 70053.0 0.0   68400.0  7.0 ...\n",
       "3 149.46667 10.0 24.76203 0      0     1500 13500.0 1.0   16700.0  4.0 ...\n",
       "4 144.40410 25.6 39.25600 2      1     1500 42126.3 1.2   76258.5 12.6 ...\n",
       "5  93.33333 14.0 30.78656 0      0     1700 97800.0 0.0  112000.0  3.0 ...\n",
       "6 101.46600  8.0 37.11361 0      0     1700 30548.0 1.0   40320.0  9.0 ...\n",
       "  JOB_Mgr JOB_Office JOB_Other JOB_ProfExe JOB_Sales JOB_Self REASON_DebtCon\n",
       "1 0       0          1         0           0         0        0             \n",
       "2 0       0          1         0           0         0        0             \n",
       "3 0       0          1         0           0         0        0             \n",
       "4 0       0          1         0           0         0        1             \n",
       "5 0       1          0         0           0         0        0             \n",
       "6 0       0          1         0           0         0        0             \n",
       "  REASON_HomeImp BAD_0 BAD_1\n",
       "1 1              0     1    \n",
       "2 1              0     1    \n",
       "3 1              0     1    \n",
       "4 0              0     1    \n",
       "5 1              1     0    \n",
       "6 1              0     1    "
      ]
     },
     "metadata": {},
     "output_type": "display_data"
    }
   ],
   "source": [
    "data_dummies <- dummy_cols(imp_f)\n",
    "head(data_dummies)"
   ]
  },
  {
   "cell_type": "code",
   "execution_count": 10,
   "metadata": {},
   "outputs": [],
   "source": [
    "abt <- within(data_dummies, rm(\"JOB\", \"REASON\", \"BAD_1\", \"BAD_0\"))\n",
    "abt$BAD =data_dummies$BAD"
   ]
  },
  {
   "cell_type": "code",
   "execution_count": 11,
   "metadata": {},
   "outputs": [
    {
     "data": {
      "text/html": [
       "<table>\n",
       "<caption>A data.frame: 6 × 19</caption>\n",
       "<thead>\n",
       "\t<tr><th></th><th scope=col>CLAGE</th><th scope=col>CLNO</th><th scope=col>DEBTINC</th><th scope=col>DELINQ</th><th scope=col>DEROG</th><th scope=col>LOAN</th><th scope=col>MORTDUE</th><th scope=col>NINQ</th><th scope=col>VALUE</th><th scope=col>YOJ</th><th scope=col>BAD</th><th scope=col>JOB_Mgr</th><th scope=col>JOB_Office</th><th scope=col>JOB_Other</th><th scope=col>JOB_ProfExe</th><th scope=col>JOB_Sales</th><th scope=col>JOB_Self</th><th scope=col>REASON_DebtCon</th><th scope=col>REASON_HomeImp</th></tr>\n",
       "\t<tr><th></th><th scope=col>&lt;dbl&gt;</th><th scope=col>&lt;dbl&gt;</th><th scope=col>&lt;dbl&gt;</th><th scope=col>&lt;dbl&gt;</th><th scope=col>&lt;dbl&gt;</th><th scope=col>&lt;dbl&gt;</th><th scope=col>&lt;dbl&gt;</th><th scope=col>&lt;dbl&gt;</th><th scope=col>&lt;dbl&gt;</th><th scope=col>&lt;dbl&gt;</th><th scope=col>&lt;fct&gt;</th><th scope=col>&lt;int&gt;</th><th scope=col>&lt;int&gt;</th><th scope=col>&lt;int&gt;</th><th scope=col>&lt;int&gt;</th><th scope=col>&lt;int&gt;</th><th scope=col>&lt;int&gt;</th><th scope=col>&lt;int&gt;</th><th scope=col>&lt;int&gt;</th></tr>\n",
       "</thead>\n",
       "<tbody>\n",
       "\t<tr><th scope=row>1</th><td> 94.36667</td><td> 9.0</td><td>35.89829</td><td>0</td><td>0</td><td>1100</td><td>25860.0</td><td>1.0</td><td> 39025.0</td><td>10.5</td><td>1</td><td>0</td><td>0</td><td>1</td><td>0</td><td>0</td><td>0</td><td>0</td><td>1</td></tr>\n",
       "\t<tr><th scope=row>2</th><td>121.83333</td><td>14.0</td><td>35.67594</td><td>2</td><td>0</td><td>1300</td><td>70053.0</td><td>0.0</td><td> 68400.0</td><td> 7.0</td><td>1</td><td>0</td><td>0</td><td>1</td><td>0</td><td>0</td><td>0</td><td>0</td><td>1</td></tr>\n",
       "\t<tr><th scope=row>3</th><td>149.46667</td><td>10.0</td><td>24.76203</td><td>0</td><td>0</td><td>1500</td><td>13500.0</td><td>1.0</td><td> 16700.0</td><td> 4.0</td><td>1</td><td>0</td><td>0</td><td>1</td><td>0</td><td>0</td><td>0</td><td>0</td><td>1</td></tr>\n",
       "\t<tr><th scope=row>4</th><td>144.40410</td><td>25.6</td><td>39.25600</td><td>2</td><td>1</td><td>1500</td><td>42126.3</td><td>1.2</td><td> 76258.5</td><td>12.6</td><td>1</td><td>0</td><td>0</td><td>1</td><td>0</td><td>0</td><td>0</td><td>1</td><td>0</td></tr>\n",
       "\t<tr><th scope=row>5</th><td> 93.33333</td><td>14.0</td><td>30.78656</td><td>0</td><td>0</td><td>1700</td><td>97800.0</td><td>0.0</td><td>112000.0</td><td> 3.0</td><td>0</td><td>0</td><td>1</td><td>0</td><td>0</td><td>0</td><td>0</td><td>0</td><td>1</td></tr>\n",
       "\t<tr><th scope=row>6</th><td>101.46600</td><td> 8.0</td><td>37.11361</td><td>0</td><td>0</td><td>1700</td><td>30548.0</td><td>1.0</td><td> 40320.0</td><td> 9.0</td><td>1</td><td>0</td><td>0</td><td>1</td><td>0</td><td>0</td><td>0</td><td>0</td><td>1</td></tr>\n",
       "</tbody>\n",
       "</table>\n"
      ],
      "text/latex": [
       "A data.frame: 6 × 19\n",
       "\\begin{tabular}{r|lllllllllllllllllll}\n",
       "  & CLAGE & CLNO & DEBTINC & DELINQ & DEROG & LOAN & MORTDUE & NINQ & VALUE & YOJ & BAD & JOB\\_Mgr & JOB\\_Office & JOB\\_Other & JOB\\_ProfExe & JOB\\_Sales & JOB\\_Self & REASON\\_DebtCon & REASON\\_HomeImp\\\\\n",
       "  & <dbl> & <dbl> & <dbl> & <dbl> & <dbl> & <dbl> & <dbl> & <dbl> & <dbl> & <dbl> & <fct> & <int> & <int> & <int> & <int> & <int> & <int> & <int> & <int>\\\\\n",
       "\\hline\n",
       "\t1 &  94.36667 &  9.0 & 35.89829 & 0 & 0 & 1100 & 25860.0 & 1.0 &  39025.0 & 10.5 & 1 & 0 & 0 & 1 & 0 & 0 & 0 & 0 & 1\\\\\n",
       "\t2 & 121.83333 & 14.0 & 35.67594 & 2 & 0 & 1300 & 70053.0 & 0.0 &  68400.0 &  7.0 & 1 & 0 & 0 & 1 & 0 & 0 & 0 & 0 & 1\\\\\n",
       "\t3 & 149.46667 & 10.0 & 24.76203 & 0 & 0 & 1500 & 13500.0 & 1.0 &  16700.0 &  4.0 & 1 & 0 & 0 & 1 & 0 & 0 & 0 & 0 & 1\\\\\n",
       "\t4 & 144.40410 & 25.6 & 39.25600 & 2 & 1 & 1500 & 42126.3 & 1.2 &  76258.5 & 12.6 & 1 & 0 & 0 & 1 & 0 & 0 & 0 & 1 & 0\\\\\n",
       "\t5 &  93.33333 & 14.0 & 30.78656 & 0 & 0 & 1700 & 97800.0 & 0.0 & 112000.0 &  3.0 & 0 & 0 & 1 & 0 & 0 & 0 & 0 & 0 & 1\\\\\n",
       "\t6 & 101.46600 &  8.0 & 37.11361 & 0 & 0 & 1700 & 30548.0 & 1.0 &  40320.0 &  9.0 & 1 & 0 & 0 & 1 & 0 & 0 & 0 & 0 & 1\\\\\n",
       "\\end{tabular}\n"
      ],
      "text/markdown": [
       "\n",
       "A data.frame: 6 × 19\n",
       "\n",
       "| <!--/--> | CLAGE &lt;dbl&gt; | CLNO &lt;dbl&gt; | DEBTINC &lt;dbl&gt; | DELINQ &lt;dbl&gt; | DEROG &lt;dbl&gt; | LOAN &lt;dbl&gt; | MORTDUE &lt;dbl&gt; | NINQ &lt;dbl&gt; | VALUE &lt;dbl&gt; | YOJ &lt;dbl&gt; | BAD &lt;fct&gt; | JOB_Mgr &lt;int&gt; | JOB_Office &lt;int&gt; | JOB_Other &lt;int&gt; | JOB_ProfExe &lt;int&gt; | JOB_Sales &lt;int&gt; | JOB_Self &lt;int&gt; | REASON_DebtCon &lt;int&gt; | REASON_HomeImp &lt;int&gt; |\n",
       "|---|---|---|---|---|---|---|---|---|---|---|---|---|---|---|---|---|---|---|---|\n",
       "| 1 |  94.36667 |  9.0 | 35.89829 | 0 | 0 | 1100 | 25860.0 | 1.0 |  39025.0 | 10.5 | 1 | 0 | 0 | 1 | 0 | 0 | 0 | 0 | 1 |\n",
       "| 2 | 121.83333 | 14.0 | 35.67594 | 2 | 0 | 1300 | 70053.0 | 0.0 |  68400.0 |  7.0 | 1 | 0 | 0 | 1 | 0 | 0 | 0 | 0 | 1 |\n",
       "| 3 | 149.46667 | 10.0 | 24.76203 | 0 | 0 | 1500 | 13500.0 | 1.0 |  16700.0 |  4.0 | 1 | 0 | 0 | 1 | 0 | 0 | 0 | 0 | 1 |\n",
       "| 4 | 144.40410 | 25.6 | 39.25600 | 2 | 1 | 1500 | 42126.3 | 1.2 |  76258.5 | 12.6 | 1 | 0 | 0 | 1 | 0 | 0 | 0 | 1 | 0 |\n",
       "| 5 |  93.33333 | 14.0 | 30.78656 | 0 | 0 | 1700 | 97800.0 | 0.0 | 112000.0 |  3.0 | 0 | 0 | 1 | 0 | 0 | 0 | 0 | 0 | 1 |\n",
       "| 6 | 101.46600 |  8.0 | 37.11361 | 0 | 0 | 1700 | 30548.0 | 1.0 |  40320.0 |  9.0 | 1 | 0 | 0 | 1 | 0 | 0 | 0 | 0 | 1 |\n",
       "\n"
      ],
      "text/plain": [
       "  CLAGE     CLNO DEBTINC  DELINQ DEROG LOAN MORTDUE NINQ VALUE    YOJ  BAD\n",
       "1  94.36667  9.0 35.89829 0      0     1100 25860.0 1.0   39025.0 10.5 1  \n",
       "2 121.83333 14.0 35.67594 2      0     1300 70053.0 0.0   68400.0  7.0 1  \n",
       "3 149.46667 10.0 24.76203 0      0     1500 13500.0 1.0   16700.0  4.0 1  \n",
       "4 144.40410 25.6 39.25600 2      1     1500 42126.3 1.2   76258.5 12.6 1  \n",
       "5  93.33333 14.0 30.78656 0      0     1700 97800.0 0.0  112000.0  3.0 0  \n",
       "6 101.46600  8.0 37.11361 0      0     1700 30548.0 1.0   40320.0  9.0 1  \n",
       "  JOB_Mgr JOB_Office JOB_Other JOB_ProfExe JOB_Sales JOB_Self REASON_DebtCon\n",
       "1 0       0          1         0           0         0        0             \n",
       "2 0       0          1         0           0         0        0             \n",
       "3 0       0          1         0           0         0        0             \n",
       "4 0       0          1         0           0         0        1             \n",
       "5 0       1          0         0           0         0        0             \n",
       "6 0       0          1         0           0         0        0             \n",
       "  REASON_HomeImp\n",
       "1 1             \n",
       "2 1             \n",
       "3 1             \n",
       "4 0             \n",
       "5 1             \n",
       "6 1             "
      ]
     },
     "metadata": {},
     "output_type": "display_data"
    }
   ],
   "source": [
    "head(abt)"
   ]
  },
  {
   "cell_type": "code",
   "execution_count": null,
   "metadata": {},
   "outputs": [],
   "source": [
    "dm_modelformula"
   ]
  },
  {
   "cell_type": "code",
   "execution_count": 12,
   "metadata": {},
   "outputs": [],
   "source": [
    "model <- glm(formula = BAD ~ ., family = binomial(link = \"logit\"), data = abt)\n",
    "\n",
    "s <- summary(model)"
   ]
  },
  {
   "cell_type": "code",
   "execution_count": 13,
   "metadata": {},
   "outputs": [
    {
     "data": {
      "text/plain": [
       "\n",
       "Call:\n",
       "glm(formula = BAD ~ ., family = binomial(link = \"logit\"), data = abt)\n",
       "\n",
       "Deviance Residuals: \n",
       "    Min       1Q   Median       3Q      Max  \n",
       "-2.2804  -0.5863  -0.4011  -0.2114   3.4876  \n",
       "\n",
       "Coefficients: (2 not defined because of singularities)\n",
       "                 Estimate Std. Error z value Pr(>|z|)    \n",
       "(Intercept)    -3.626e+00  3.221e-01 -11.256  < 2e-16 ***\n",
       "CLAGE          -4.161e-03  5.373e-04  -7.744 9.61e-15 ***\n",
       "CLNO           -2.571e-02  4.540e-03  -5.665 1.47e-08 ***\n",
       "DEBTINC         1.054e-01  6.512e-03  16.185  < 2e-16 ***\n",
       "DELINQ          7.814e-01  3.959e-02  19.736  < 2e-16 ***\n",
       "DEROG           5.378e-01  4.882e-02  11.016  < 2e-16 ***\n",
       "LOAN           -1.952e-05  4.292e-06  -4.547 5.43e-06 ***\n",
       "MORTDUE        -7.139e-06  1.803e-06  -3.960 7.51e-05 ***\n",
       "NINQ            1.369e-01  2.094e-02   6.535 6.36e-11 ***\n",
       "VALUE           4.758e-06  1.288e-06   3.693 0.000222 ***\n",
       "YOJ            -1.037e-02  5.868e-03  -1.766 0.077314 .  \n",
       "JOB_Mgr        -5.432e-01  2.307e-01  -2.355 0.018517 *  \n",
       "JOB_Office     -1.184e+00  2.338e-01  -5.062 4.14e-07 ***\n",
       "JOB_Other      -4.311e-01  2.145e-01  -2.010 0.044469 *  \n",
       "JOB_ProfExe    -3.632e-01  2.227e-01  -1.630 0.103008    \n",
       "JOB_Sales       3.602e-01  3.271e-01   1.101 0.270943    \n",
       "JOB_Self               NA         NA      NA       NA    \n",
       "REASON_DebtCon -2.304e-01  8.665e-02  -2.659 0.007844 ** \n",
       "REASON_HomeImp         NA         NA      NA       NA    \n",
       "---\n",
       "Signif. codes:  0 '***' 0.001 '**' 0.01 '*' 0.05 '.' 0.1 ' ' 1\n",
       "\n",
       "(Dispersion parameter for binomial family taken to be 1)\n",
       "\n",
       "    Null deviance: 5956.5  on 5959  degrees of freedom\n",
       "Residual deviance: 4432.8  on 5943  degrees of freedom\n",
       "AIC: 4466.8\n",
       "\n",
       "Number of Fisher Scoring iterations: 5\n"
      ]
     },
     "metadata": {},
     "output_type": "display_data"
    }
   ],
   "source": [
    "s"
   ]
  },
  {
   "cell_type": "code",
   "execution_count": null,
   "metadata": {},
   "outputs": [],
   "source": [
    "print(s)"
   ]
  },
  {
   "cell_type": "code",
   "execution_count": 14,
   "metadata": {},
   "outputs": [
    {
     "data": {
      "text/html": [
       "'R_HMEQ.xml'"
      ],
      "text/latex": [
       "'R\\_HMEQ.xml'"
      ],
      "text/markdown": [
       "'R_HMEQ.xml'"
      ],
      "text/plain": [
       "[1] \"R_HMEQ.xml\""
      ]
     },
     "metadata": {},
     "output_type": "display_data"
    }
   ],
   "source": [
    "saveXML(pmml(model, model.name=\"General_Regression_Model\",\n",
    "             app.name=\"Rattle/PMML\",\n",
    "             description=\"Generalized Linear Regression Model\"), \"R_HMEQ.xml\")"
   ]
  },
  {
   "cell_type": "code",
   "execution_count": null,
   "metadata": {},
   "outputs": [],
   "source": [
    "write.csv(abt, './hmeq_dummies.csv', row.names=FALSE)"
   ]
  }
 ],
 "metadata": {
  "kernelspec": {
   "display_name": "R",
   "language": "R",
   "name": "ir"
  },
  "language_info": {
   "codemirror_mode": "r",
   "file_extension": ".r",
   "mimetype": "text/x-r-source",
   "name": "R",
   "pygments_lexer": "r",
   "version": "4.0.0"
  }
 },
 "nbformat": 4,
 "nbformat_minor": 4
}
